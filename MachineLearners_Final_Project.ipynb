{
 "cells": [
  {
   "cell_type": "markdown",
   "metadata": {},
   "source": [
    "# Final Project: Predicting Hotel Reservation Cancellations"
   ]
  },
  {
   "cell_type": "markdown",
   "metadata": {},
   "source": [
    "## Package Imports"
   ]
  },
  {
   "cell_type": "code",
   "execution_count": 110,
   "metadata": {},
   "outputs": [],
   "source": [
    "import pandas as pd\n",
    "import random\n",
    "import numpy as np\n",
    "from sklearn.model_selection import train_test_split,GridSearchCV,RepeatedStratifiedKFold\n",
    "from sklearn import metrics\n",
    "from sklearn.metrics import ConfusionMatrixDisplay, recall_score, confusion_matrix\n",
    "import matplotlib.pyplot as plt\n",
    "import plotly.express as px\n",
    "import plotly.graph_objects as go\n",
    "from sklearn.preprocessing import MinMaxScaler\n",
    "from sklearn.neighbors import KNeighborsClassifier\n",
    "from sklearn.tree import DecisionTreeClassifier, export_graphviz \n",
    "import graphviz\n",
    "from sklearn.neighbors import KNeighborsClassifier"
   ]
  },
  {
   "cell_type": "markdown",
   "metadata": {},
   "source": [
    "## Background"
   ]
  },
  {
   "cell_type": "markdown",
   "metadata": {},
   "source": [
    "For this project, we are looking at hotel data that comes from an open hotel booking demand dataset in 2019. It contains information about the timing of the stay, how many people will be staying at the hotel, and how the stay was booked, among other factors contributing to the reservation. We will be looking at the is_canceled column as our target variable, predicting wether or not a stay is canceled based on the other data about the reservation."
   ]
  },
  {
   "cell_type": "markdown",
   "metadata": {},
   "source": [
    "## Exploratory Data Analysis/Data Cleaning"
   ]
  },
  {
   "cell_type": "code",
   "execution_count": 111,
   "metadata": {},
   "outputs": [],
   "source": [
    "hotel_data = pd.read_csv(\"/Users/matthewsamuel/Library/CloudStorage/GoogleDrive-ms3wcw@virginia.edu/My Drive/Fall 2023/DS 3001/Final Project/hotels.csv\")"
   ]
  },
  {
   "cell_type": "code",
   "execution_count": 112,
   "metadata": {},
   "outputs": [
    {
     "data": {
      "text/html": [
       "<div>\n",
       "<style scoped>\n",
       "    .dataframe tbody tr th:only-of-type {\n",
       "        vertical-align: middle;\n",
       "    }\n",
       "\n",
       "    .dataframe tbody tr th {\n",
       "        vertical-align: top;\n",
       "    }\n",
       "\n",
       "    .dataframe thead th {\n",
       "        text-align: right;\n",
       "    }\n",
       "</style>\n",
       "<table border=\"1\" class=\"dataframe\">\n",
       "  <thead>\n",
       "    <tr style=\"text-align: right;\">\n",
       "      <th></th>\n",
       "      <th>hotel</th>\n",
       "      <th>is_canceled</th>\n",
       "      <th>lead_time</th>\n",
       "      <th>arrival_date_year</th>\n",
       "      <th>arrival_date_month</th>\n",
       "      <th>arrival_date_week_number</th>\n",
       "      <th>arrival_date_day_of_month</th>\n",
       "      <th>stays_in_weekend_nights</th>\n",
       "      <th>stays_in_week_nights</th>\n",
       "      <th>adults</th>\n",
       "      <th>...</th>\n",
       "      <th>deposit_type</th>\n",
       "      <th>agent</th>\n",
       "      <th>company</th>\n",
       "      <th>days_in_waiting_list</th>\n",
       "      <th>customer_type</th>\n",
       "      <th>adr</th>\n",
       "      <th>required_car_parking_spaces</th>\n",
       "      <th>total_of_special_requests</th>\n",
       "      <th>reservation_status</th>\n",
       "      <th>reservation_status_date</th>\n",
       "    </tr>\n",
       "  </thead>\n",
       "  <tbody>\n",
       "    <tr>\n",
       "      <th>0</th>\n",
       "      <td>Resort Hotel</td>\n",
       "      <td>0</td>\n",
       "      <td>342</td>\n",
       "      <td>2015</td>\n",
       "      <td>July</td>\n",
       "      <td>27</td>\n",
       "      <td>1</td>\n",
       "      <td>0</td>\n",
       "      <td>0</td>\n",
       "      <td>2</td>\n",
       "      <td>...</td>\n",
       "      <td>No Deposit</td>\n",
       "      <td>NaN</td>\n",
       "      <td>NaN</td>\n",
       "      <td>0</td>\n",
       "      <td>Transient</td>\n",
       "      <td>0.0</td>\n",
       "      <td>0</td>\n",
       "      <td>0</td>\n",
       "      <td>Check-Out</td>\n",
       "      <td>2015-07-01</td>\n",
       "    </tr>\n",
       "    <tr>\n",
       "      <th>1</th>\n",
       "      <td>Resort Hotel</td>\n",
       "      <td>0</td>\n",
       "      <td>737</td>\n",
       "      <td>2015</td>\n",
       "      <td>July</td>\n",
       "      <td>27</td>\n",
       "      <td>1</td>\n",
       "      <td>0</td>\n",
       "      <td>0</td>\n",
       "      <td>2</td>\n",
       "      <td>...</td>\n",
       "      <td>No Deposit</td>\n",
       "      <td>NaN</td>\n",
       "      <td>NaN</td>\n",
       "      <td>0</td>\n",
       "      <td>Transient</td>\n",
       "      <td>0.0</td>\n",
       "      <td>0</td>\n",
       "      <td>0</td>\n",
       "      <td>Check-Out</td>\n",
       "      <td>2015-07-01</td>\n",
       "    </tr>\n",
       "    <tr>\n",
       "      <th>2</th>\n",
       "      <td>Resort Hotel</td>\n",
       "      <td>0</td>\n",
       "      <td>7</td>\n",
       "      <td>2015</td>\n",
       "      <td>July</td>\n",
       "      <td>27</td>\n",
       "      <td>1</td>\n",
       "      <td>0</td>\n",
       "      <td>1</td>\n",
       "      <td>1</td>\n",
       "      <td>...</td>\n",
       "      <td>No Deposit</td>\n",
       "      <td>NaN</td>\n",
       "      <td>NaN</td>\n",
       "      <td>0</td>\n",
       "      <td>Transient</td>\n",
       "      <td>75.0</td>\n",
       "      <td>0</td>\n",
       "      <td>0</td>\n",
       "      <td>Check-Out</td>\n",
       "      <td>2015-07-02</td>\n",
       "    </tr>\n",
       "    <tr>\n",
       "      <th>3</th>\n",
       "      <td>Resort Hotel</td>\n",
       "      <td>0</td>\n",
       "      <td>13</td>\n",
       "      <td>2015</td>\n",
       "      <td>July</td>\n",
       "      <td>27</td>\n",
       "      <td>1</td>\n",
       "      <td>0</td>\n",
       "      <td>1</td>\n",
       "      <td>1</td>\n",
       "      <td>...</td>\n",
       "      <td>No Deposit</td>\n",
       "      <td>304.0</td>\n",
       "      <td>NaN</td>\n",
       "      <td>0</td>\n",
       "      <td>Transient</td>\n",
       "      <td>75.0</td>\n",
       "      <td>0</td>\n",
       "      <td>0</td>\n",
       "      <td>Check-Out</td>\n",
       "      <td>2015-07-02</td>\n",
       "    </tr>\n",
       "    <tr>\n",
       "      <th>4</th>\n",
       "      <td>Resort Hotel</td>\n",
       "      <td>0</td>\n",
       "      <td>14</td>\n",
       "      <td>2015</td>\n",
       "      <td>July</td>\n",
       "      <td>27</td>\n",
       "      <td>1</td>\n",
       "      <td>0</td>\n",
       "      <td>2</td>\n",
       "      <td>2</td>\n",
       "      <td>...</td>\n",
       "      <td>No Deposit</td>\n",
       "      <td>240.0</td>\n",
       "      <td>NaN</td>\n",
       "      <td>0</td>\n",
       "      <td>Transient</td>\n",
       "      <td>98.0</td>\n",
       "      <td>0</td>\n",
       "      <td>1</td>\n",
       "      <td>Check-Out</td>\n",
       "      <td>2015-07-03</td>\n",
       "    </tr>\n",
       "  </tbody>\n",
       "</table>\n",
       "<p>5 rows × 32 columns</p>\n",
       "</div>"
      ],
      "text/plain": [
       "          hotel  is_canceled  lead_time  arrival_date_year arrival_date_month  \\\n",
       "0  Resort Hotel            0        342               2015               July   \n",
       "1  Resort Hotel            0        737               2015               July   \n",
       "2  Resort Hotel            0          7               2015               July   \n",
       "3  Resort Hotel            0         13               2015               July   \n",
       "4  Resort Hotel            0         14               2015               July   \n",
       "\n",
       "   arrival_date_week_number  arrival_date_day_of_month  \\\n",
       "0                        27                          1   \n",
       "1                        27                          1   \n",
       "2                        27                          1   \n",
       "3                        27                          1   \n",
       "4                        27                          1   \n",
       "\n",
       "   stays_in_weekend_nights  stays_in_week_nights  adults  ...  deposit_type  \\\n",
       "0                        0                     0       2  ...    No Deposit   \n",
       "1                        0                     0       2  ...    No Deposit   \n",
       "2                        0                     1       1  ...    No Deposit   \n",
       "3                        0                     1       1  ...    No Deposit   \n",
       "4                        0                     2       2  ...    No Deposit   \n",
       "\n",
       "   agent company days_in_waiting_list customer_type   adr  \\\n",
       "0    NaN     NaN                    0     Transient   0.0   \n",
       "1    NaN     NaN                    0     Transient   0.0   \n",
       "2    NaN     NaN                    0     Transient  75.0   \n",
       "3  304.0     NaN                    0     Transient  75.0   \n",
       "4  240.0     NaN                    0     Transient  98.0   \n",
       "\n",
       "   required_car_parking_spaces  total_of_special_requests  reservation_status  \\\n",
       "0                            0                          0           Check-Out   \n",
       "1                            0                          0           Check-Out   \n",
       "2                            0                          0           Check-Out   \n",
       "3                            0                          0           Check-Out   \n",
       "4                            0                          1           Check-Out   \n",
       "\n",
       "  reservation_status_date  \n",
       "0              2015-07-01  \n",
       "1              2015-07-01  \n",
       "2              2015-07-02  \n",
       "3              2015-07-02  \n",
       "4              2015-07-03  \n",
       "\n",
       "[5 rows x 32 columns]"
      ]
     },
     "execution_count": 112,
     "metadata": {},
     "output_type": "execute_result"
    }
   ],
   "source": [
    "hotel_data.head()"
   ]
  },
  {
   "cell_type": "code",
   "execution_count": 113,
   "metadata": {},
   "outputs": [
    {
     "name": "stdout",
     "output_type": "stream",
     "text": [
      "<class 'pandas.core.frame.DataFrame'>\n",
      "RangeIndex: 119390 entries, 0 to 119389\n",
      "Data columns (total 32 columns):\n",
      " #   Column                          Non-Null Count   Dtype  \n",
      "---  ------                          --------------   -----  \n",
      " 0   hotel                           119390 non-null  object \n",
      " 1   is_canceled                     119390 non-null  int64  \n",
      " 2   lead_time                       119390 non-null  int64  \n",
      " 3   arrival_date_year               119390 non-null  int64  \n",
      " 4   arrival_date_month              119390 non-null  object \n",
      " 5   arrival_date_week_number        119390 non-null  int64  \n",
      " 6   arrival_date_day_of_month       119390 non-null  int64  \n",
      " 7   stays_in_weekend_nights         119390 non-null  int64  \n",
      " 8   stays_in_week_nights            119390 non-null  int64  \n",
      " 9   adults                          119390 non-null  int64  \n",
      " 10  children                        119386 non-null  float64\n",
      " 11  babies                          119390 non-null  int64  \n",
      " 12  meal                            119390 non-null  object \n",
      " 13  country                         118902 non-null  object \n",
      " 14  market_segment                  119390 non-null  object \n",
      " 15  distribution_channel            119390 non-null  object \n",
      " 16  is_repeated_guest               119390 non-null  int64  \n",
      " 17  previous_cancellations          119390 non-null  int64  \n",
      " 18  previous_bookings_not_canceled  119390 non-null  int64  \n",
      " 19  reserved_room_type              119390 non-null  object \n",
      " 20  assigned_room_type              119390 non-null  object \n",
      " 21  booking_changes                 119390 non-null  int64  \n",
      " 22  deposit_type                    119390 non-null  object \n",
      " 23  agent                           103050 non-null  float64\n",
      " 24  company                         6797 non-null    float64\n",
      " 25  days_in_waiting_list            119390 non-null  int64  \n",
      " 26  customer_type                   119390 non-null  object \n",
      " 27  adr                             119390 non-null  float64\n",
      " 28  required_car_parking_spaces     119390 non-null  int64  \n",
      " 29  total_of_special_requests       119390 non-null  int64  \n",
      " 30  reservation_status              119390 non-null  object \n",
      " 31  reservation_status_date         119390 non-null  object \n",
      "dtypes: float64(4), int64(16), object(12)\n",
      "memory usage: 29.1+ MB\n"
     ]
    }
   ],
   "source": [
    "hotel_data.info()"
   ]
  },
  {
   "cell_type": "code",
   "execution_count": 114,
   "metadata": {},
   "outputs": [
    {
     "data": {
      "text/html": [
       "<div>\n",
       "<style scoped>\n",
       "    .dataframe tbody tr th:only-of-type {\n",
       "        vertical-align: middle;\n",
       "    }\n",
       "\n",
       "    .dataframe tbody tr th {\n",
       "        vertical-align: top;\n",
       "    }\n",
       "\n",
       "    .dataframe thead th {\n",
       "        text-align: right;\n",
       "    }\n",
       "</style>\n",
       "<table border=\"1\" class=\"dataframe\">\n",
       "  <thead>\n",
       "    <tr style=\"text-align: right;\">\n",
       "      <th></th>\n",
       "      <th>is_canceled</th>\n",
       "      <th>lead_time</th>\n",
       "      <th>arrival_date_year</th>\n",
       "      <th>arrival_date_week_number</th>\n",
       "      <th>arrival_date_day_of_month</th>\n",
       "      <th>stays_in_weekend_nights</th>\n",
       "      <th>stays_in_week_nights</th>\n",
       "      <th>adults</th>\n",
       "      <th>children</th>\n",
       "      <th>babies</th>\n",
       "      <th>is_repeated_guest</th>\n",
       "      <th>previous_cancellations</th>\n",
       "      <th>previous_bookings_not_canceled</th>\n",
       "      <th>booking_changes</th>\n",
       "      <th>agent</th>\n",
       "      <th>company</th>\n",
       "      <th>days_in_waiting_list</th>\n",
       "      <th>adr</th>\n",
       "      <th>required_car_parking_spaces</th>\n",
       "      <th>total_of_special_requests</th>\n",
       "    </tr>\n",
       "  </thead>\n",
       "  <tbody>\n",
       "    <tr>\n",
       "      <th>count</th>\n",
       "      <td>119390.000000</td>\n",
       "      <td>119390.000000</td>\n",
       "      <td>119390.000000</td>\n",
       "      <td>119390.000000</td>\n",
       "      <td>119390.000000</td>\n",
       "      <td>119390.000000</td>\n",
       "      <td>119390.000000</td>\n",
       "      <td>119390.000000</td>\n",
       "      <td>119386.000000</td>\n",
       "      <td>119390.000000</td>\n",
       "      <td>119390.000000</td>\n",
       "      <td>119390.000000</td>\n",
       "      <td>119390.000000</td>\n",
       "      <td>119390.000000</td>\n",
       "      <td>103050.000000</td>\n",
       "      <td>6797.000000</td>\n",
       "      <td>119390.000000</td>\n",
       "      <td>119390.000000</td>\n",
       "      <td>119390.000000</td>\n",
       "      <td>119390.000000</td>\n",
       "    </tr>\n",
       "    <tr>\n",
       "      <th>mean</th>\n",
       "      <td>0.370416</td>\n",
       "      <td>104.011416</td>\n",
       "      <td>2016.156554</td>\n",
       "      <td>27.165173</td>\n",
       "      <td>15.798241</td>\n",
       "      <td>0.927599</td>\n",
       "      <td>2.500302</td>\n",
       "      <td>1.856403</td>\n",
       "      <td>0.103890</td>\n",
       "      <td>0.007949</td>\n",
       "      <td>0.031912</td>\n",
       "      <td>0.087118</td>\n",
       "      <td>0.137097</td>\n",
       "      <td>0.221124</td>\n",
       "      <td>86.693382</td>\n",
       "      <td>189.266735</td>\n",
       "      <td>2.321149</td>\n",
       "      <td>101.831122</td>\n",
       "      <td>0.062518</td>\n",
       "      <td>0.571363</td>\n",
       "    </tr>\n",
       "    <tr>\n",
       "      <th>std</th>\n",
       "      <td>0.482918</td>\n",
       "      <td>106.863097</td>\n",
       "      <td>0.707476</td>\n",
       "      <td>13.605138</td>\n",
       "      <td>8.780829</td>\n",
       "      <td>0.998613</td>\n",
       "      <td>1.908286</td>\n",
       "      <td>0.579261</td>\n",
       "      <td>0.398561</td>\n",
       "      <td>0.097436</td>\n",
       "      <td>0.175767</td>\n",
       "      <td>0.844336</td>\n",
       "      <td>1.497437</td>\n",
       "      <td>0.652306</td>\n",
       "      <td>110.774548</td>\n",
       "      <td>131.655015</td>\n",
       "      <td>17.594721</td>\n",
       "      <td>50.535790</td>\n",
       "      <td>0.245291</td>\n",
       "      <td>0.792798</td>\n",
       "    </tr>\n",
       "    <tr>\n",
       "      <th>min</th>\n",
       "      <td>0.000000</td>\n",
       "      <td>0.000000</td>\n",
       "      <td>2015.000000</td>\n",
       "      <td>1.000000</td>\n",
       "      <td>1.000000</td>\n",
       "      <td>0.000000</td>\n",
       "      <td>0.000000</td>\n",
       "      <td>0.000000</td>\n",
       "      <td>0.000000</td>\n",
       "      <td>0.000000</td>\n",
       "      <td>0.000000</td>\n",
       "      <td>0.000000</td>\n",
       "      <td>0.000000</td>\n",
       "      <td>0.000000</td>\n",
       "      <td>1.000000</td>\n",
       "      <td>6.000000</td>\n",
       "      <td>0.000000</td>\n",
       "      <td>-6.380000</td>\n",
       "      <td>0.000000</td>\n",
       "      <td>0.000000</td>\n",
       "    </tr>\n",
       "    <tr>\n",
       "      <th>25%</th>\n",
       "      <td>0.000000</td>\n",
       "      <td>18.000000</td>\n",
       "      <td>2016.000000</td>\n",
       "      <td>16.000000</td>\n",
       "      <td>8.000000</td>\n",
       "      <td>0.000000</td>\n",
       "      <td>1.000000</td>\n",
       "      <td>2.000000</td>\n",
       "      <td>0.000000</td>\n",
       "      <td>0.000000</td>\n",
       "      <td>0.000000</td>\n",
       "      <td>0.000000</td>\n",
       "      <td>0.000000</td>\n",
       "      <td>0.000000</td>\n",
       "      <td>9.000000</td>\n",
       "      <td>62.000000</td>\n",
       "      <td>0.000000</td>\n",
       "      <td>69.290000</td>\n",
       "      <td>0.000000</td>\n",
       "      <td>0.000000</td>\n",
       "    </tr>\n",
       "    <tr>\n",
       "      <th>50%</th>\n",
       "      <td>0.000000</td>\n",
       "      <td>69.000000</td>\n",
       "      <td>2016.000000</td>\n",
       "      <td>28.000000</td>\n",
       "      <td>16.000000</td>\n",
       "      <td>1.000000</td>\n",
       "      <td>2.000000</td>\n",
       "      <td>2.000000</td>\n",
       "      <td>0.000000</td>\n",
       "      <td>0.000000</td>\n",
       "      <td>0.000000</td>\n",
       "      <td>0.000000</td>\n",
       "      <td>0.000000</td>\n",
       "      <td>0.000000</td>\n",
       "      <td>14.000000</td>\n",
       "      <td>179.000000</td>\n",
       "      <td>0.000000</td>\n",
       "      <td>94.575000</td>\n",
       "      <td>0.000000</td>\n",
       "      <td>0.000000</td>\n",
       "    </tr>\n",
       "    <tr>\n",
       "      <th>75%</th>\n",
       "      <td>1.000000</td>\n",
       "      <td>160.000000</td>\n",
       "      <td>2017.000000</td>\n",
       "      <td>38.000000</td>\n",
       "      <td>23.000000</td>\n",
       "      <td>2.000000</td>\n",
       "      <td>3.000000</td>\n",
       "      <td>2.000000</td>\n",
       "      <td>0.000000</td>\n",
       "      <td>0.000000</td>\n",
       "      <td>0.000000</td>\n",
       "      <td>0.000000</td>\n",
       "      <td>0.000000</td>\n",
       "      <td>0.000000</td>\n",
       "      <td>229.000000</td>\n",
       "      <td>270.000000</td>\n",
       "      <td>0.000000</td>\n",
       "      <td>126.000000</td>\n",
       "      <td>0.000000</td>\n",
       "      <td>1.000000</td>\n",
       "    </tr>\n",
       "    <tr>\n",
       "      <th>max</th>\n",
       "      <td>1.000000</td>\n",
       "      <td>737.000000</td>\n",
       "      <td>2017.000000</td>\n",
       "      <td>53.000000</td>\n",
       "      <td>31.000000</td>\n",
       "      <td>19.000000</td>\n",
       "      <td>50.000000</td>\n",
       "      <td>55.000000</td>\n",
       "      <td>10.000000</td>\n",
       "      <td>10.000000</td>\n",
       "      <td>1.000000</td>\n",
       "      <td>26.000000</td>\n",
       "      <td>72.000000</td>\n",
       "      <td>21.000000</td>\n",
       "      <td>535.000000</td>\n",
       "      <td>543.000000</td>\n",
       "      <td>391.000000</td>\n",
       "      <td>5400.000000</td>\n",
       "      <td>8.000000</td>\n",
       "      <td>5.000000</td>\n",
       "    </tr>\n",
       "  </tbody>\n",
       "</table>\n",
       "</div>"
      ],
      "text/plain": [
       "         is_canceled      lead_time  arrival_date_year  \\\n",
       "count  119390.000000  119390.000000      119390.000000   \n",
       "mean        0.370416     104.011416        2016.156554   \n",
       "std         0.482918     106.863097           0.707476   \n",
       "min         0.000000       0.000000        2015.000000   \n",
       "25%         0.000000      18.000000        2016.000000   \n",
       "50%         0.000000      69.000000        2016.000000   \n",
       "75%         1.000000     160.000000        2017.000000   \n",
       "max         1.000000     737.000000        2017.000000   \n",
       "\n",
       "       arrival_date_week_number  arrival_date_day_of_month  \\\n",
       "count             119390.000000              119390.000000   \n",
       "mean                  27.165173                  15.798241   \n",
       "std                   13.605138                   8.780829   \n",
       "min                    1.000000                   1.000000   \n",
       "25%                   16.000000                   8.000000   \n",
       "50%                   28.000000                  16.000000   \n",
       "75%                   38.000000                  23.000000   \n",
       "max                   53.000000                  31.000000   \n",
       "\n",
       "       stays_in_weekend_nights  stays_in_week_nights         adults  \\\n",
       "count            119390.000000         119390.000000  119390.000000   \n",
       "mean                  0.927599              2.500302       1.856403   \n",
       "std                   0.998613              1.908286       0.579261   \n",
       "min                   0.000000              0.000000       0.000000   \n",
       "25%                   0.000000              1.000000       2.000000   \n",
       "50%                   1.000000              2.000000       2.000000   \n",
       "75%                   2.000000              3.000000       2.000000   \n",
       "max                  19.000000             50.000000      55.000000   \n",
       "\n",
       "            children         babies  is_repeated_guest  \\\n",
       "count  119386.000000  119390.000000      119390.000000   \n",
       "mean        0.103890       0.007949           0.031912   \n",
       "std         0.398561       0.097436           0.175767   \n",
       "min         0.000000       0.000000           0.000000   \n",
       "25%         0.000000       0.000000           0.000000   \n",
       "50%         0.000000       0.000000           0.000000   \n",
       "75%         0.000000       0.000000           0.000000   \n",
       "max        10.000000      10.000000           1.000000   \n",
       "\n",
       "       previous_cancellations  previous_bookings_not_canceled  \\\n",
       "count           119390.000000                   119390.000000   \n",
       "mean                 0.087118                        0.137097   \n",
       "std                  0.844336                        1.497437   \n",
       "min                  0.000000                        0.000000   \n",
       "25%                  0.000000                        0.000000   \n",
       "50%                  0.000000                        0.000000   \n",
       "75%                  0.000000                        0.000000   \n",
       "max                 26.000000                       72.000000   \n",
       "\n",
       "       booking_changes          agent      company  days_in_waiting_list  \\\n",
       "count    119390.000000  103050.000000  6797.000000         119390.000000   \n",
       "mean          0.221124      86.693382   189.266735              2.321149   \n",
       "std           0.652306     110.774548   131.655015             17.594721   \n",
       "min           0.000000       1.000000     6.000000              0.000000   \n",
       "25%           0.000000       9.000000    62.000000              0.000000   \n",
       "50%           0.000000      14.000000   179.000000              0.000000   \n",
       "75%           0.000000     229.000000   270.000000              0.000000   \n",
       "max          21.000000     535.000000   543.000000            391.000000   \n",
       "\n",
       "                 adr  required_car_parking_spaces  total_of_special_requests  \n",
       "count  119390.000000                119390.000000              119390.000000  \n",
       "mean      101.831122                     0.062518                   0.571363  \n",
       "std        50.535790                     0.245291                   0.792798  \n",
       "min        -6.380000                     0.000000                   0.000000  \n",
       "25%        69.290000                     0.000000                   0.000000  \n",
       "50%        94.575000                     0.000000                   0.000000  \n",
       "75%       126.000000                     0.000000                   1.000000  \n",
       "max      5400.000000                     8.000000                   5.000000  "
      ]
     },
     "execution_count": 114,
     "metadata": {},
     "output_type": "execute_result"
    }
   ],
   "source": [
    "hotel_data.describe()"
   ]
  },
  {
   "cell_type": "code",
   "execution_count": 115,
   "metadata": {},
   "outputs": [],
   "source": [
    "# drop unnecessary variables\n",
    "hotel_data = hotel_data.drop(['company'],axis=1)\n",
    "hotel_data = hotel_data.dropna()"
   ]
  },
  {
   "cell_type": "code",
   "execution_count": 116,
   "metadata": {},
   "outputs": [
    {
     "data": {
      "text/plain": [
       "hotel\n",
       "City Hotel      0.69179\n",
       "Resort Hotel    0.30821\n",
       "Name: proportion, dtype: float64"
      ]
     },
     "execution_count": 116,
     "metadata": {},
     "output_type": "execute_result"
    }
   ],
   "source": [
    "# create value counts for our potential predictors and one hot encode \n",
    "hotel_data['hotel'].value_counts(normalize=True)"
   ]
  },
  {
   "cell_type": "code",
   "execution_count": 117,
   "metadata": {},
   "outputs": [
    {
     "data": {
      "text/plain": [
       "arrival_date_month\n",
       "August       0.123156\n",
       "July         0.112728\n",
       "May          0.098033\n",
       "June         0.095273\n",
       "April        0.094719\n",
       "October      0.091716\n",
       "September    0.091463\n",
       "March        0.079033\n",
       "February     0.062637\n",
       "December     0.054619\n",
       "November     0.052442\n",
       "January      0.044181\n",
       "Name: proportion, dtype: float64"
      ]
     },
     "execution_count": 117,
     "metadata": {},
     "output_type": "execute_result"
    }
   ],
   "source": [
    "hotel_data['arrival_date_month'].value_counts(normalize=True)"
   ]
  },
  {
   "cell_type": "code",
   "execution_count": 118,
   "metadata": {},
   "outputs": [],
   "source": [
    "hotel_data.rename(columns={'arrival_date_month': 'arrival_season'}, inplace=True)\n",
    "hotel_data['arrival_season'] = hotel_data['arrival_season'].apply(lambda x: \"Winter\" if x in [\"December\", \"January\", \"February\"] else \"Spring\" if x in [\"March\", \"April\", \"May\"] else \"Summer\" if x in [\"June\", \"July\", \"August\"] else \"Fall\")"
   ]
  },
  {
   "cell_type": "code",
   "execution_count": 119,
   "metadata": {},
   "outputs": [
    {
     "data": {
      "text/plain": [
       "meal\n",
       "BB           0.754544\n",
       "HB           0.130435\n",
       "SC           0.100433\n",
       "Undefined    0.008067\n",
       "FB           0.006521\n",
       "Name: proportion, dtype: float64"
      ]
     },
     "execution_count": 119,
     "metadata": {},
     "output_type": "execute_result"
    }
   ],
   "source": [
    "hotel_data['meal'].value_counts(normalize=True)"
   ]
  },
  {
   "cell_type": "code",
   "execution_count": 120,
   "metadata": {},
   "outputs": [],
   "source": [
    "hotel_data['meal'] = hotel_data['meal'].apply(lambda x: x if x in [\"BB\", \"HB\"] else \"Other\")"
   ]
  },
  {
   "cell_type": "code",
   "execution_count": 121,
   "metadata": {},
   "outputs": [
    {
     "data": {
      "text/plain": [
       "country\n",
       "PRT    0.365337\n",
       "GBR    0.105827\n",
       "FRA    0.095341\n",
       "ESP    0.076273\n",
       "DEU    0.068012\n",
       "         ...   \n",
       "BHS    0.000010\n",
       "UMI    0.000010\n",
       "NPL    0.000010\n",
       "MWI    0.000010\n",
       "BFA    0.000010\n",
       "Name: proportion, Length: 174, dtype: float64"
      ]
     },
     "execution_count": 121,
     "metadata": {},
     "output_type": "execute_result"
    }
   ],
   "source": [
    "hotel_data['country'].value_counts(normalize=True)"
   ]
  },
  {
   "cell_type": "code",
   "execution_count": 122,
   "metadata": {},
   "outputs": [],
   "source": [
    "hotel_data = hotel_data.drop(['country'],axis=1)"
   ]
  },
  {
   "cell_type": "code",
   "execution_count": 123,
   "metadata": {},
   "outputs": [
    {
     "data": {
      "text/plain": [
       "market_segment\n",
       "Online TA        0.544803\n",
       "Offline TA/TO    0.231053\n",
       "Groups           0.152205\n",
       "Direct           0.063969\n",
       "Corporate        0.006725\n",
       "Complementary    0.001001\n",
       "Aviation         0.000243\n",
       "Name: proportion, dtype: float64"
      ]
     },
     "execution_count": 123,
     "metadata": {},
     "output_type": "execute_result"
    }
   ],
   "source": [
    "hotel_data['market_segment'].value_counts(normalize=True)"
   ]
  },
  {
   "cell_type": "code",
   "execution_count": 124,
   "metadata": {},
   "outputs": [],
   "source": [
    "hotel_data['market_segment'] = hotel_data['market_segment'].apply(lambda x: x if x in [\"Online TA\", \"Offline TA/TO\", \"Groups\", \"Direct\"] else \"Other\")"
   ]
  },
  {
   "cell_type": "code",
   "execution_count": 125,
   "metadata": {},
   "outputs": [
    {
     "data": {
      "text/plain": [
       "distribution_channel\n",
       "TA/TO        0.919150\n",
       "Direct       0.068060\n",
       "Corporate    0.010934\n",
       "GDS          0.001856\n",
       "Name: proportion, dtype: float64"
      ]
     },
     "execution_count": 125,
     "metadata": {},
     "output_type": "execute_result"
    }
   ],
   "source": [
    "hotel_data['distribution_channel'].value_counts(normalize=True)"
   ]
  },
  {
   "cell_type": "code",
   "execution_count": 126,
   "metadata": {},
   "outputs": [],
   "source": [
    "hotel_data['distribution_channel'] = hotel_data['distribution_channel'].apply(lambda x: x if x in [\"TA/TO\", \"Direct\"] else \"Other\")"
   ]
  },
  {
   "cell_type": "code",
   "execution_count": 127,
   "metadata": {},
   "outputs": [
    {
     "data": {
      "text/plain": [
       "reserved_room_type\n",
       "A    0.712043\n",
       "D    0.170418\n",
       "E    0.053035\n",
       "F    0.024656\n",
       "G    0.017581\n",
       "B    0.009641\n",
       "C    0.007435\n",
       "H    0.005190\n",
       "Name: proportion, dtype: float64"
      ]
     },
     "execution_count": 127,
     "metadata": {},
     "output_type": "execute_result"
    }
   ],
   "source": [
    "hotel_data['reserved_room_type'].value_counts(normalize=True)"
   ]
  },
  {
   "cell_type": "code",
   "execution_count": 128,
   "metadata": {},
   "outputs": [],
   "source": [
    "hotel_data['reserved_room_type'] = hotel_data['reserved_room_type'].apply(lambda x: x if x in [\"A\", \"D\"] else \"Other\")"
   ]
  },
  {
   "cell_type": "code",
   "execution_count": 129,
   "metadata": {},
   "outputs": [
    {
     "data": {
      "text/plain": [
       "assigned_room_type\n",
       "A    0.626878\n",
       "D    0.213210\n",
       "E    0.061286\n",
       "F    0.030459\n",
       "G    0.021080\n",
       "B    0.018262\n",
       "C    0.018155\n",
       "H    0.005841\n",
       "I    0.002663\n",
       "K    0.002167\n",
       "Name: proportion, dtype: float64"
      ]
     },
     "execution_count": 129,
     "metadata": {},
     "output_type": "execute_result"
    }
   ],
   "source": [
    "hotel_data['assigned_room_type'].value_counts(normalize=True)"
   ]
  },
  {
   "cell_type": "code",
   "execution_count": 130,
   "metadata": {},
   "outputs": [],
   "source": [
    "hotel_data['assigned_room_type'] = hotel_data['assigned_room_type'].apply(lambda x: x if x in [\"A\", \"D\"] else \"Other\")"
   ]
  },
  {
   "cell_type": "code",
   "execution_count": 131,
   "metadata": {},
   "outputs": [
    {
     "data": {
      "text/plain": [
       "deposit_type\n",
       "No Deposit    0.877835\n",
       "Non Refund    0.121698\n",
       "Refundable    0.000466\n",
       "Name: proportion, dtype: float64"
      ]
     },
     "execution_count": 131,
     "metadata": {},
     "output_type": "execute_result"
    }
   ],
   "source": [
    "hotel_data['deposit_type'].value_counts(normalize=True)"
   ]
  },
  {
   "cell_type": "code",
   "execution_count": 132,
   "metadata": {},
   "outputs": [
    {
     "data": {
      "text/plain": [
       "customer_type\n",
       "Transient          0.755690\n",
       "Transient-Party    0.200225\n",
       "Contract           0.039487\n",
       "Group              0.004597\n",
       "Name: proportion, dtype: float64"
      ]
     },
     "execution_count": 132,
     "metadata": {},
     "output_type": "execute_result"
    }
   ],
   "source": [
    "hotel_data['customer_type'].value_counts(normalize=True)"
   ]
  },
  {
   "cell_type": "code",
   "execution_count": 133,
   "metadata": {},
   "outputs": [
    {
     "data": {
      "text/plain": [
       "reservation_status\n",
       "Check-Out    0.609686\n",
       "Canceled     0.380566\n",
       "No-Show      0.009748\n",
       "Name: proportion, dtype: float64"
      ]
     },
     "execution_count": 133,
     "metadata": {},
     "output_type": "execute_result"
    }
   ],
   "source": [
    "hotel_data['reservation_status'].value_counts(normalize=True)"
   ]
  },
  {
   "cell_type": "code",
   "execution_count": 134,
   "metadata": {},
   "outputs": [],
   "source": [
    "# drop reservation_status and reservation_status_date\n",
    "hotel_data = hotel_data.drop(['reservation_status'],axis=1)"
   ]
  },
  {
   "cell_type": "code",
   "execution_count": 135,
   "metadata": {},
   "outputs": [
    {
     "data": {
      "text/plain": [
       "reservation_status_date\n",
       "2015-10-21    0.013859\n",
       "2015-07-06    0.007804\n",
       "2015-01-01    0.007415\n",
       "2016-01-18    0.005753\n",
       "2016-11-25    0.005365\n",
       "                ...   \n",
       "2015-03-11    0.000010\n",
       "2015-03-12    0.000010\n",
       "2014-11-18    0.000010\n",
       "2015-04-07    0.000010\n",
       "2015-04-25    0.000010\n",
       "Name: proportion, Length: 923, dtype: float64"
      ]
     },
     "execution_count": 135,
     "metadata": {},
     "output_type": "execute_result"
    }
   ],
   "source": [
    "hotel_data['reservation_status_date'].value_counts(normalize=True)"
   ]
  },
  {
   "cell_type": "code",
   "execution_count": 136,
   "metadata": {},
   "outputs": [],
   "source": [
    "hotel_data = hotel_data.drop(['reservation_status_date'], axis = 1) #everything except for 'is_canceled' column"
   ]
  },
  {
   "cell_type": "code",
   "execution_count": 137,
   "metadata": {},
   "outputs": [
    {
     "name": "stdout",
     "output_type": "stream",
     "text": [
      "<class 'pandas.core.frame.DataFrame'>\n",
      "Index: 102894 entries, 3 to 119389\n",
      "Data columns (total 28 columns):\n",
      " #   Column                          Non-Null Count   Dtype  \n",
      "---  ------                          --------------   -----  \n",
      " 0   hotel                           102894 non-null  object \n",
      " 1   is_canceled                     102894 non-null  int64  \n",
      " 2   lead_time                       102894 non-null  int64  \n",
      " 3   arrival_date_year               102894 non-null  int64  \n",
      " 4   arrival_season                  102894 non-null  object \n",
      " 5   arrival_date_week_number        102894 non-null  int64  \n",
      " 6   arrival_date_day_of_month       102894 non-null  int64  \n",
      " 7   stays_in_weekend_nights         102894 non-null  int64  \n",
      " 8   stays_in_week_nights            102894 non-null  int64  \n",
      " 9   adults                          102894 non-null  int64  \n",
      " 10  children                        102894 non-null  float64\n",
      " 11  babies                          102894 non-null  int64  \n",
      " 12  meal                            102894 non-null  object \n",
      " 13  market_segment                  102894 non-null  object \n",
      " 14  distribution_channel            102894 non-null  object \n",
      " 15  is_repeated_guest               102894 non-null  int64  \n",
      " 16  previous_cancellations          102894 non-null  int64  \n",
      " 17  previous_bookings_not_canceled  102894 non-null  int64  \n",
      " 18  reserved_room_type              102894 non-null  object \n",
      " 19  assigned_room_type              102894 non-null  object \n",
      " 20  booking_changes                 102894 non-null  int64  \n",
      " 21  deposit_type                    102894 non-null  object \n",
      " 22  agent                           102894 non-null  float64\n",
      " 23  days_in_waiting_list            102894 non-null  int64  \n",
      " 24  customer_type                   102894 non-null  object \n",
      " 25  adr                             102894 non-null  float64\n",
      " 26  required_car_parking_spaces     102894 non-null  int64  \n",
      " 27  total_of_special_requests       102894 non-null  int64  \n",
      "dtypes: float64(3), int64(16), object(9)\n",
      "memory usage: 22.8+ MB\n"
     ]
    }
   ],
   "source": [
    "hotel_data.info()"
   ]
  },
  {
   "cell_type": "code",
   "execution_count": 138,
   "metadata": {},
   "outputs": [],
   "source": [
    "#Now we can move forward in normalizing the numeric values and create a index based on numeric columns:\n",
    "abc = list(hotel_data.select_dtypes('number')) #select function to find the numeric variables and create a list  \n",
    "hotel_data[abc] = MinMaxScaler().fit_transform(hotel_data[abc])"
   ]
  },
  {
   "cell_type": "code",
   "execution_count": 139,
   "metadata": {},
   "outputs": [
    {
     "name": "stdout",
     "output_type": "stream",
     "text": [
      "<class 'pandas.core.frame.DataFrame'>\n",
      "Index: 102894 entries, 3 to 119389\n",
      "Data columns (total 49 columns):\n",
      " #   Column                          Non-Null Count   Dtype  \n",
      "---  ------                          --------------   -----  \n",
      " 0   is_canceled                     102894 non-null  float64\n",
      " 1   lead_time                       102894 non-null  float64\n",
      " 2   arrival_date_year               102894 non-null  float64\n",
      " 3   arrival_date_week_number        102894 non-null  float64\n",
      " 4   arrival_date_day_of_month       102894 non-null  float64\n",
      " 5   stays_in_weekend_nights         102894 non-null  float64\n",
      " 6   stays_in_week_nights            102894 non-null  float64\n",
      " 7   adults                          102894 non-null  float64\n",
      " 8   children                        102894 non-null  float64\n",
      " 9   babies                          102894 non-null  float64\n",
      " 10  is_repeated_guest               102894 non-null  float64\n",
      " 11  previous_cancellations          102894 non-null  float64\n",
      " 12  previous_bookings_not_canceled  102894 non-null  float64\n",
      " 13  booking_changes                 102894 non-null  float64\n",
      " 14  agent                           102894 non-null  float64\n",
      " 15  days_in_waiting_list            102894 non-null  float64\n",
      " 16  adr                             102894 non-null  float64\n",
      " 17  required_car_parking_spaces     102894 non-null  float64\n",
      " 18  total_of_special_requests       102894 non-null  float64\n",
      " 19  hotel_City Hotel                102894 non-null  bool   \n",
      " 20  hotel_Resort Hotel              102894 non-null  bool   \n",
      " 21  arrival_season_Fall             102894 non-null  bool   \n",
      " 22  arrival_season_Spring           102894 non-null  bool   \n",
      " 23  arrival_season_Summer           102894 non-null  bool   \n",
      " 24  arrival_season_Winter           102894 non-null  bool   \n",
      " 25  meal_BB                         102894 non-null  bool   \n",
      " 26  meal_HB                         102894 non-null  bool   \n",
      " 27  meal_Other                      102894 non-null  bool   \n",
      " 28  market_segment_Direct           102894 non-null  bool   \n",
      " 29  market_segment_Groups           102894 non-null  bool   \n",
      " 30  market_segment_Offline TA/TO    102894 non-null  bool   \n",
      " 31  market_segment_Online TA        102894 non-null  bool   \n",
      " 32  market_segment_Other            102894 non-null  bool   \n",
      " 33  distribution_channel_Direct     102894 non-null  bool   \n",
      " 34  distribution_channel_Other      102894 non-null  bool   \n",
      " 35  distribution_channel_TA/TO      102894 non-null  bool   \n",
      " 36  reserved_room_type_A            102894 non-null  bool   \n",
      " 37  reserved_room_type_D            102894 non-null  bool   \n",
      " 38  reserved_room_type_Other        102894 non-null  bool   \n",
      " 39  assigned_room_type_A            102894 non-null  bool   \n",
      " 40  assigned_room_type_D            102894 non-null  bool   \n",
      " 41  assigned_room_type_Other        102894 non-null  bool   \n",
      " 42  deposit_type_No Deposit         102894 non-null  bool   \n",
      " 43  deposit_type_Non Refund         102894 non-null  bool   \n",
      " 44  deposit_type_Refundable         102894 non-null  bool   \n",
      " 45  customer_type_Contract          102894 non-null  bool   \n",
      " 46  customer_type_Group             102894 non-null  bool   \n",
      " 47  customer_type_Transient         102894 non-null  bool   \n",
      " 48  customer_type_Transient-Party   102894 non-null  bool   \n",
      "dtypes: bool(30), float64(19)\n",
      "memory usage: 18.6 MB\n"
     ]
    }
   ],
   "source": [
    "category_list = list(hotel_data.select_dtypes('object')) #select function to find the categorical variables and create a list  \n",
    "\n",
    "hotel_data = pd.get_dummies(hotel_data, columns = category_list) \n",
    "#get_dummies encodes categorical variables into binary by adding in indicator column for each group of a category and assigning it 0 if false or 1 if true\n",
    "hotel_data.info() #see the difference? This is one-hot encoding!"
   ]
  },
  {
   "cell_type": "code",
   "execution_count": 140,
   "metadata": {},
   "outputs": [
    {
     "name": "stdout",
     "output_type": "stream",
     "text": [
      "is_canceled\n",
      "0.0    0.609686\n",
      "1.0    0.390314\n",
      "Name: proportion, dtype: float64\n"
     ]
    }
   ],
   "source": [
    "print(hotel_data.is_canceled.value_counts(normalize=True))"
   ]
  },
  {
   "cell_type": "markdown",
   "metadata": {},
   "source": [
    "Based on our exploratory data analysis, we would expect that the ‘deposit_type’ (no deposit, non-refundable, refundable), ‘previous_cancellations’ (whether or not the customer previously canceled a reservation), and ‘lead_time’ (the time between when the booking was entered into the reservation system and the arrival date) features would be important for our analysis since these would all likely have an impact on whether or not the customer ends up canceling their reservation.\n",
    "\n",
    "We dropped the ‘company’ feature since it had over 110,000 missing/NA values. We dropped the ‘country’ feature since there were 174 unique values for it and also because we didn’t think it was going to be important to include in our model. Furthermore, we dropped the ‘reservation_status’ feature since it has the same prevalence as our target variable, which caused our model to have an accuracy of 1.0, and we dropped the ‘reservation_status_date’ features since there were 923 unique values for it. We also dropped all observations that contained any NA values in them. We collapsed the number of levels of certain categorical variables such as ‘arrival_date_month’ (which we renamed to be ‘arrival_season’ that has 4 levels – one for each season), as well as the ‘meal’, ‘market_segment’, ‘distribution_channel’, ‘reserved_room_type’, and ‘assigned_room_type’ features since these features have a lot of levels that have a very small value count. "
   ]
  },
  {
   "cell_type": "markdown",
   "metadata": {},
   "source": [
    "## Methods"
   ]
  },
  {
   "cell_type": "code",
   "execution_count": 141,
   "metadata": {},
   "outputs": [],
   "source": [
    "#split independent and dependent variables \n",
    "X= hotel_data.drop(['is_canceled'], axis = 1) #everything except for 'is_canceled' column\n",
    "y= hotel_data['is_canceled'] #only 'is_canceled' column"
   ]
  },
  {
   "cell_type": "code",
   "execution_count": 142,
   "metadata": {},
   "outputs": [],
   "source": [
    "X_train, X_test, y_train, y_test = train_test_split(X, y, train_size=0.80, stratify= y, random_state=21)\n",
    "X_tune, X_test, y_tune, y_test = train_test_split(X_test,y_test,  train_size = 0.50,stratify= y_test, random_state=49)"
   ]
  },
  {
   "cell_type": "code",
   "execution_count": 143,
   "metadata": {},
   "outputs": [],
   "source": [
    "kf = RepeatedStratifiedKFold(n_splits=10,n_repeats =5, random_state=42)"
   ]
  },
  {
   "cell_type": "code",
   "execution_count": 144,
   "metadata": {},
   "outputs": [
    {
     "name": "stdout",
     "output_type": "stream",
     "text": [
      "['accuracy', 'adjusted_mutual_info_score', 'adjusted_rand_score', 'average_precision', 'balanced_accuracy', 'completeness_score', 'explained_variance', 'f1', 'f1_macro', 'f1_micro', 'f1_samples', 'f1_weighted', 'fowlkes_mallows_score', 'homogeneity_score', 'jaccard', 'jaccard_macro', 'jaccard_micro', 'jaccard_samples', 'jaccard_weighted', 'matthews_corrcoef', 'max_error', 'mutual_info_score', 'neg_brier_score', 'neg_log_loss', 'neg_mean_absolute_error', 'neg_mean_absolute_percentage_error', 'neg_mean_gamma_deviance', 'neg_mean_poisson_deviance', 'neg_mean_squared_error', 'neg_mean_squared_log_error', 'neg_median_absolute_error', 'neg_negative_likelihood_ratio', 'neg_root_mean_squared_error', 'normalized_mutual_info_score', 'positive_likelihood_ratio', 'precision', 'precision_macro', 'precision_micro', 'precision_samples', 'precision_weighted', 'r2', 'rand_score', 'recall', 'recall_macro', 'recall_micro', 'recall_samples', 'recall_weighted', 'roc_auc', 'roc_auc_ovo', 'roc_auc_ovo_weighted', 'roc_auc_ovr', 'roc_auc_ovr_weighted', 'top_k_accuracy', 'v_measure_score']\n"
     ]
    }
   ],
   "source": [
    "print(metrics.get_scorer_names())"
   ]
  },
  {
   "cell_type": "code",
   "execution_count": 145,
   "metadata": {},
   "outputs": [],
   "source": [
    "scoring = ['roc_auc','recall','balanced_accuracy']"
   ]
  },
  {
   "cell_type": "code",
   "execution_count": 146,
   "metadata": {},
   "outputs": [],
   "source": [
    "param={\"max_depth\" : [1,2,3,4,5,6,7,8,9,10,11,12,13,14,15,16,17,18,19,20],\n",
    "        #\"splitter\":[\"best\",\"random\"],\n",
    "        #\"min_samples_split\":[5,10,15,20,25],\n",
    "        #\"min_samples_leaf\":[5,10,15,20,25],\n",
    "        #\"min_weight_fraction_leaf\":[0,0.1,0.2,0.3,0.4,0.5,0.6,0.7,0.8,0.9],\n",
    "        #\"max_features\":[\"auto\",\"log2\",\"sqrt\",None],\n",
    "        #\"max_leaf_nodes\":[10,20,30,40,50],\n",
    "        #'min_impurity_decrease':[0.00005,0.0001,0.0002,0.0005,0.001,0.0015,0.002,0.005,0.01],\n",
    "        #'ccp_alpha' :[.001, .01, .1]\n",
    "           }"
   ]
  },
  {
   "cell_type": "code",
   "execution_count": 147,
   "metadata": {},
   "outputs": [],
   "source": [
    "#Classifier model we will use\n",
    "cl= DecisionTreeClassifier(random_state=1000, max_leaf_nodes = 10)"
   ]
  },
  {
   "cell_type": "code",
   "execution_count": 148,
   "metadata": {},
   "outputs": [],
   "source": [
    "#Set up search for best decisiontreeclassifier estimator across all of our folds based on roc_auc\n",
    "search = GridSearchCV(cl, param, scoring=scoring, n_jobs=-1, cv=kf,refit='roc_auc')"
   ]
  },
  {
   "cell_type": "code",
   "execution_count": 149,
   "metadata": {},
   "outputs": [],
   "source": [
    "model = search.fit(X_train, y_train)"
   ]
  },
  {
   "cell_type": "code",
   "execution_count": 150,
   "metadata": {},
   "outputs": [
    {
     "name": "stdout",
     "output_type": "stream",
     "text": [
      "DecisionTreeClassifier(max_depth=6, max_leaf_nodes=10, random_state=1000)\n"
     ]
    }
   ],
   "source": [
    "best = model.best_estimator_\n",
    "print(best)"
   ]
  },
  {
   "cell_type": "markdown",
   "metadata": {},
   "source": [
    "## Model Evaluation"
   ]
  },
  {
   "cell_type": "code",
   "execution_count": 151,
   "metadata": {},
   "outputs": [
    {
     "name": "stdout",
     "output_type": "stream",
     "text": [
      "{'mean_fit_time': array([0.05734674, 0.07998535, 0.11057888, 0.13276705, 0.15578982,\n",
      "       0.17141096, 0.17399065, 0.17792069, 0.17741371, 0.17499204,\n",
      "       0.18126266, 0.19085783, 0.20047403, 0.18271464, 0.18075811,\n",
      "       0.19437639, 0.18432129, 0.17771623, 0.19119477, 0.19469729]), 'std_fit_time': array([0.01531911, 0.00384162, 0.0081396 , 0.00610587, 0.00709092,\n",
      "       0.00644363, 0.00936283, 0.00573917, 0.00536216, 0.00404491,\n",
      "       0.00789785, 0.02378213, 0.02524382, 0.01028424, 0.00715409,\n",
      "       0.02457061, 0.01242206, 0.0076793 , 0.02916713, 0.02702738]), 'mean_score_time': array([0.01599619, 0.01388336, 0.01478399, 0.01470863, 0.01420528,\n",
      "       0.01411015, 0.01499   , 0.01509732, 0.01391691, 0.01426422,\n",
      "       0.01651082, 0.01566364, 0.01625777, 0.01533296, 0.01500327,\n",
      "       0.01640058, 0.01481112, 0.01482315, 0.0151255 , 0.01547983]), 'std_score_time': array([0.00692018, 0.00213022, 0.00282421, 0.00224777, 0.00198546,\n",
      "       0.00180948, 0.00228547, 0.00237368, 0.00137449, 0.00295143,\n",
      "       0.00367196, 0.00349583, 0.00455091, 0.00257311, 0.00229696,\n",
      "       0.00420561, 0.0018442 , 0.00252584, 0.00357786, 0.00269504]), 'param_max_depth': masked_array(data=[1, 2, 3, 4, 5, 6, 7, 8, 9, 10, 11, 12, 13, 14, 15, 16,\n",
      "                   17, 18, 19, 20],\n",
      "             mask=[False, False, False, False, False, False, False, False,\n",
      "                   False, False, False, False, False, False, False, False,\n",
      "                   False, False, False, False],\n",
      "       fill_value='?',\n",
      "            dtype=object), 'params': [{'max_depth': 1}, {'max_depth': 2}, {'max_depth': 3}, {'max_depth': 4}, {'max_depth': 5}, {'max_depth': 6}, {'max_depth': 7}, {'max_depth': 8}, {'max_depth': 9}, {'max_depth': 10}, {'max_depth': 11}, {'max_depth': 12}, {'max_depth': 13}, {'max_depth': 14}, {'max_depth': 15}, {'max_depth': 16}, {'max_depth': 17}, {'max_depth': 18}, {'max_depth': 19}, {'max_depth': 20}], 'split0_test_roc_auc': array([0.66373467, 0.69154077, 0.75913607, 0.80558924, 0.83604658,\n",
      "       0.8425723 , 0.83624152, 0.83624152, 0.83624152, 0.83624152,\n",
      "       0.83624152, 0.83624152, 0.83624152, 0.83624152, 0.83624152,\n",
      "       0.83624152, 0.83624152, 0.83624152, 0.83624152, 0.83624152]), 'split1_test_roc_auc': array([0.65386238, 0.67406271, 0.74644583, 0.79578455, 0.82451022,\n",
      "       0.83212845, 0.82772746, 0.82772746, 0.82772746, 0.82772746,\n",
      "       0.82772746, 0.82772746, 0.82772746, 0.82772746, 0.82772746,\n",
      "       0.82772746, 0.82772746, 0.82772746, 0.82772746, 0.82772746]), 'split2_test_roc_auc': array([0.65319629, 0.68076901, 0.75338739, 0.79744506, 0.8315043 ,\n",
      "       0.84106238, 0.83559917, 0.83559917, 0.83559917, 0.83559917,\n",
      "       0.83559917, 0.83559917, 0.83559917, 0.83559917, 0.83559917,\n",
      "       0.83559917, 0.83559917, 0.83559917, 0.83559917, 0.83559917]), 'split3_test_roc_auc': array([0.65759721, 0.67972693, 0.7537563 , 0.80073064, 0.82850357,\n",
      "       0.83602755, 0.83057466, 0.83057466, 0.83057466, 0.83057466,\n",
      "       0.83057466, 0.83057466, 0.83057466, 0.83057466, 0.83057466,\n",
      "       0.83057466, 0.83057466, 0.83057466, 0.83057466, 0.83057466]), 'split4_test_roc_auc': array([0.65650788, 0.67958034, 0.74838291, 0.79205093, 0.82720102,\n",
      "       0.8364255 , 0.83303549, 0.83303549, 0.83303549, 0.83303549,\n",
      "       0.83303549, 0.83303549, 0.83303549, 0.83303549, 0.83303549,\n",
      "       0.83303549, 0.83303549, 0.83303549, 0.83303549, 0.83303549]), 'split5_test_roc_auc': array([0.65718629, 0.682449  , 0.74824538, 0.7939803 , 0.82683767,\n",
      "       0.8366682 , 0.83216356, 0.83216356, 0.83216356, 0.83216356,\n",
      "       0.83216356, 0.83216356, 0.83216356, 0.83216356, 0.83216356,\n",
      "       0.83216356, 0.83216356, 0.83216356, 0.83216356, 0.83216356]), 'split6_test_roc_auc': array([0.65724227, 0.68154346, 0.75202455, 0.79495184, 0.82422482,\n",
      "       0.8327928 , 0.82768309, 0.82768309, 0.82768309, 0.82768309,\n",
      "       0.82768309, 0.82768309, 0.82768309, 0.82768309, 0.82768309,\n",
      "       0.82768309, 0.82768309, 0.82768309, 0.82768309, 0.82768309]), 'split7_test_roc_auc': array([0.65523155, 0.67793392, 0.75093067, 0.79476452, 0.82809573,\n",
      "       0.83692433, 0.83323868, 0.83323868, 0.83323868, 0.83323868,\n",
      "       0.83323868, 0.83323868, 0.83323868, 0.83323868, 0.83323868,\n",
      "       0.83323868, 0.83323868, 0.83323868, 0.83323868, 0.83323868]), 'split8_test_roc_auc': array([0.65319621, 0.67956155, 0.75062101, 0.79798831, 0.82338291,\n",
      "       0.83344091, 0.82942735, 0.82942735, 0.82942735, 0.82942735,\n",
      "       0.82942735, 0.82942735, 0.82942735, 0.82942735, 0.82942735,\n",
      "       0.82942735, 0.82942735, 0.82942735, 0.82942735, 0.82942735]), 'split9_test_roc_auc': array([0.65061025, 0.67528684, 0.74246828, 0.7933741 , 0.82359007,\n",
      "       0.83194722, 0.82805777, 0.82805777, 0.82805777, 0.82805777,\n",
      "       0.82805777, 0.82805777, 0.82805777, 0.82805777, 0.82805777,\n",
      "       0.82805777, 0.82805777, 0.82805777, 0.82805777, 0.82805777]), 'split10_test_roc_auc': array([0.65496408, 0.67984283, 0.74696672, 0.79722811, 0.8281617 ,\n",
      "       0.83650631, 0.83182844, 0.83182844, 0.83182844, 0.83182844,\n",
      "       0.83182844, 0.83182844, 0.83182844, 0.83182844, 0.83182844,\n",
      "       0.83182844, 0.83182844, 0.83182844, 0.83182844, 0.83182844]), 'split11_test_roc_auc': array([0.6529723 , 0.67371105, 0.74288376, 0.79302851, 0.82560605,\n",
      "       0.83479417, 0.83052207, 0.83052207, 0.83052207, 0.83052207,\n",
      "       0.83052207, 0.83052207, 0.83052207, 0.83052207, 0.83052207,\n",
      "       0.83052207, 0.83052207, 0.83052207, 0.83052207, 0.83052207]), 'split12_test_roc_auc': array([0.65721109, 0.68133858, 0.75135956, 0.79624092, 0.82998586,\n",
      "       0.83729122, 0.83506122, 0.83506122, 0.83506122, 0.83506122,\n",
      "       0.83506122, 0.83506122, 0.83506122, 0.83506122, 0.83506122,\n",
      "       0.83506122, 0.83506122, 0.83506122, 0.83506122, 0.83506122]), 'split13_test_roc_auc': array([0.65414236, 0.67778176, 0.75209185, 0.79931787, 0.82886426,\n",
      "       0.83681677, 0.83261505, 0.83261505, 0.83261505, 0.83261505,\n",
      "       0.83261505, 0.83261505, 0.83261505, 0.83261505, 0.83261505,\n",
      "       0.83261505, 0.83261505, 0.83261505, 0.83261505, 0.83261505]), 'split14_test_roc_auc': array([0.66014309, 0.68445478, 0.7506108 , 0.79459833, 0.82408376,\n",
      "       0.83178574, 0.82616716, 0.82616716, 0.82616716, 0.82616716,\n",
      "       0.82616716, 0.82616716, 0.82616716, 0.82616716, 0.82616716,\n",
      "       0.82616716, 0.82616716, 0.82616716, 0.82616716, 0.82616716]), 'split15_test_roc_auc': array([0.65247409, 0.68037933, 0.74476906, 0.79032415, 0.82135538,\n",
      "       0.83096836, 0.82594357, 0.82594357, 0.82594357, 0.82594357,\n",
      "       0.82594357, 0.82594357, 0.82594357, 0.82594357, 0.82594357,\n",
      "       0.82594357, 0.82594357, 0.82594357, 0.82594357, 0.82594357]), 'split16_test_roc_auc': array([0.65241812, 0.67832712, 0.75355139, 0.79769714, 0.82700786,\n",
      "       0.83677563, 0.83255069, 0.83255069, 0.83255069, 0.83255069,\n",
      "       0.83255069, 0.83255069, 0.83255069, 0.83255069, 0.83255069,\n",
      "       0.83255069, 0.83255069, 0.83255069, 0.83255069, 0.83255069]), 'split17_test_roc_auc': array([0.65739789, 0.68102841, 0.75538584, 0.79939876, 0.83218595,\n",
      "       0.83888084, 0.83312193, 0.83312193, 0.83312193, 0.83312193,\n",
      "       0.83312193, 0.83312193, 0.83312193, 0.83312193, 0.83312193,\n",
      "       0.83312193, 0.83312193, 0.83312193, 0.83312193, 0.83312193]), 'split18_test_roc_auc': array([0.65967618, 0.68402162, 0.75763603, 0.80354825, 0.83797867,\n",
      "       0.84817985, 0.84423895, 0.84423895, 0.84423895, 0.84423895,\n",
      "       0.84423895, 0.84423895, 0.84423895, 0.84423895, 0.84423895,\n",
      "       0.84423895, 0.84423895, 0.84423895, 0.84423895, 0.84423895]), 'split19_test_roc_auc': array([0.65696763, 0.68157207, 0.75024052, 0.79529162, 0.82536269,\n",
      "       0.83369314, 0.82740121, 0.82740121, 0.82740121, 0.82740121,\n",
      "       0.82740121, 0.82740121, 0.82740121, 0.82740121, 0.82740121,\n",
      "       0.82740121, 0.82740121, 0.82740121, 0.82740121, 0.82740121]), 'split20_test_roc_auc': array([0.66393391, 0.68674636, 0.7517821 , 0.79536398, 0.82480037,\n",
      "       0.83439051, 0.82919549, 0.82919549, 0.82919549, 0.82919549,\n",
      "       0.82919549, 0.82919549, 0.82919549, 0.82919549, 0.82919549,\n",
      "       0.82919549, 0.82919549, 0.82919549, 0.82919549, 0.82919549]), 'split21_test_roc_auc': array([0.65121688, 0.67833099, 0.74534838, 0.79154191, 0.82645704,\n",
      "       0.83454439, 0.83128702, 0.83128702, 0.83128702, 0.83128702,\n",
      "       0.83128702, 0.83128702, 0.83128702, 0.83128702, 0.83128702,\n",
      "       0.83128702, 0.83128702, 0.83128702, 0.83128702, 0.83128702]), 'split22_test_roc_auc': array([0.65258619, 0.67873698, 0.75074254, 0.79524498, 0.82590154,\n",
      "       0.83505294, 0.82989539, 0.82989539, 0.82989539, 0.82989539,\n",
      "       0.82989539, 0.82989539, 0.82989539, 0.82989539, 0.82989539,\n",
      "       0.82989539, 0.82989539, 0.82989539, 0.82989539, 0.82989539]), 'split23_test_roc_auc': array([0.65708673, 0.68069825, 0.74866506, 0.79199124, 0.82624753,\n",
      "       0.83480896, 0.82989015, 0.82989015, 0.82989015, 0.82989015,\n",
      "       0.82989015, 0.82989015, 0.82989015, 0.82989015, 0.82989015,\n",
      "       0.82989015, 0.82989015, 0.82989015, 0.82989015, 0.82989015]), 'split24_test_roc_auc': array([0.65640826, 0.67963578, 0.75561853, 0.80283228, 0.83509517,\n",
      "       0.84321325, 0.83815931, 0.83815931, 0.83815931, 0.83815931,\n",
      "       0.83815931, 0.83815931, 0.83815931, 0.83815931, 0.83815931,\n",
      "       0.83815931, 0.83815931, 0.83815931, 0.83815931, 0.83815931]), 'split25_test_roc_auc': array([0.66253327, 0.68367264, 0.75596353, 0.79936102, 0.83231934,\n",
      "       0.84122298, 0.83771904, 0.83771904, 0.83771904, 0.83771904,\n",
      "       0.83771904, 0.83771904, 0.83771904, 0.83771904, 0.83771904,\n",
      "       0.83771904, 0.83771904, 0.83771904, 0.83771904, 0.83771904]), 'split26_test_roc_auc': array([0.64888257, 0.67327735, 0.74707654, 0.79569848, 0.82508342,\n",
      "       0.8336972 , 0.82774455, 0.82774455, 0.82774455, 0.82774455,\n",
      "       0.82774455, 0.82774455, 0.82774455, 0.82774455, 0.82774455,\n",
      "       0.82774455, 0.82774455, 0.82774455, 0.82774455, 0.82774455]), 'split27_test_roc_auc': array([0.65272935, 0.68130804, 0.75059983, 0.79803687, 0.82624789,\n",
      "       0.83346058, 0.8284372 , 0.8284372 , 0.8284372 , 0.8284372 ,\n",
      "       0.8284372 , 0.8284372 , 0.8284372 , 0.8284372 , 0.8284372 ,\n",
      "       0.8284372 , 0.8284372 , 0.8284372 , 0.8284372 , 0.8284372 ]), 'split28_test_roc_auc': array([0.65422955, 0.6792625 , 0.74609048, 0.79408977, 0.82441307,\n",
      "       0.83238096, 0.82929366, 0.82929366, 0.82929366, 0.82929366,\n",
      "       0.82929366, 0.82929366, 0.82929366, 0.82929366, 0.82929366,\n",
      "       0.82929366, 0.82929366, 0.82929366, 0.82929366, 0.82929366]), 'split29_test_roc_auc': array([0.65876094, 0.68079529, 0.75334693, 0.80276729, 0.8341429 ,\n",
      "       0.84307666, 0.83807928, 0.83807928, 0.83807928, 0.83807928,\n",
      "       0.83807928, 0.83807928, 0.83807928, 0.83807928, 0.83807928,\n",
      "       0.83807928, 0.83807928, 0.83807928, 0.83807928, 0.83807928]), 'split30_test_roc_auc': array([0.66264535, 0.68498436, 0.75919756, 0.80697049, 0.83601595,\n",
      "       0.84401311, 0.8376396 , 0.8376396 , 0.8376396 , 0.8376396 ,\n",
      "       0.8376396 , 0.8376396 , 0.8376396 , 0.8376396 , 0.8376396 ,\n",
      "       0.8376396 , 0.8376396 , 0.8376396 , 0.8376396 , 0.8376396 ]), 'split31_test_roc_auc': array([0.65185172, 0.678298  , 0.7520241 , 0.7995363 , 0.82809302,\n",
      "       0.83533748, 0.83090131, 0.83090131, 0.83090131, 0.83090131,\n",
      "       0.83090131, 0.83090131, 0.83090131, 0.83090131, 0.83090131,\n",
      "       0.83090131, 0.83090131, 0.83090131, 0.83090131, 0.83090131]), 'split32_test_roc_auc': array([0.65132887, 0.67814787, 0.75273599, 0.79539146, 0.82309508,\n",
      "       0.83402854, 0.82990618, 0.82990618, 0.82990618, 0.82990618,\n",
      "       0.82990618, 0.82990618, 0.82990618, 0.82990618, 0.82990618,\n",
      "       0.82990618, 0.82990618, 0.82990618, 0.82990618, 0.82990618]), 'split33_test_roc_auc': array([0.65652026, 0.67899052, 0.74664135, 0.79571708, 0.83120119,\n",
      "       0.84028817, 0.83705291, 0.83705291, 0.83705291, 0.83705291,\n",
      "       0.83705291, 0.83705291, 0.83705291, 0.83705291, 0.83705291,\n",
      "       0.83705291, 0.83705291, 0.83705291, 0.83705291, 0.83705291]), 'split34_test_roc_auc': array([0.64796128, 0.67235712, 0.74415168, 0.7886305 , 0.82071976,\n",
      "       0.82972033, 0.82451143, 0.82451143, 0.82451143, 0.82451143,\n",
      "       0.82451143, 0.82451143, 0.82451143, 0.82451143, 0.82451143,\n",
      "       0.82451143, 0.82451143, 0.82451143, 0.82451143, 0.82451143]), 'split35_test_roc_auc': array([0.6596202 , 0.68526135, 0.75151127, 0.79767099, 0.82822505,\n",
      "       0.83667636, 0.83106928, 0.83106928, 0.83106928, 0.83106928,\n",
      "       0.83106928, 0.83106928, 0.83106928, 0.83106928, 0.83106928,\n",
      "       0.83106928, 0.83106928, 0.83106928, 0.83106928, 0.83106928]), 'split36_test_roc_auc': array([0.65609697, 0.68277035, 0.74888543, 0.79537744, 0.82623613,\n",
      "       0.83442322, 0.82965061, 0.82965061, 0.82965061, 0.82965061,\n",
      "       0.82965061, 0.82965061, 0.82965061, 0.82965061, 0.82965061,\n",
      "       0.82965061, 0.82965061, 0.82965061, 0.82965061, 0.82965061]), 'split37_test_roc_auc': array([0.65946458, 0.68422999, 0.75161144, 0.79958102, 0.8302777 ,\n",
      "       0.83772623, 0.83374979, 0.83374979, 0.83374979, 0.83374979,\n",
      "       0.83374979, 0.83374979, 0.83374979, 0.83374979, 0.83374979,\n",
      "       0.83374979, 0.83374979, 0.83374979, 0.83374979, 0.83374979]), 'split38_test_roc_auc': array([0.66035462, 0.68099938, 0.75253845, 0.7941201 , 0.82872592,\n",
      "       0.83712085, 0.83415326, 0.83415326, 0.83415326, 0.83415326,\n",
      "       0.83415326, 0.83415326, 0.83415326, 0.83415326, 0.83415326,\n",
      "       0.83415326, 0.83415326, 0.83415326, 0.83415326, 0.83415326]), 'split39_test_roc_auc': array([0.65252182, 0.67641564, 0.7462053 , 0.79390824, 0.82787183,\n",
      "       0.83635795, 0.83097551, 0.83097551, 0.83097551, 0.83097551,\n",
      "       0.83097551, 0.83097551, 0.83097551, 0.83097551, 0.83097551,\n",
      "       0.83097551, 0.83097551, 0.83097551, 0.83097551, 0.83097551]), 'split40_test_roc_auc': array([0.66113279, 0.68346387, 0.75789572, 0.80321011, 0.83348942,\n",
      "       0.84064266, 0.83330075, 0.83330075, 0.83330075, 0.83330075,\n",
      "       0.83330075, 0.83330075, 0.83330075, 0.83330075, 0.83330075,\n",
      "       0.83330075, 0.83330075, 0.83330075, 0.83330075, 0.83330075]), 'split41_test_roc_auc': array([0.66315582, 0.68681615, 0.74903028, 0.7924017 , 0.82713581,\n",
      "       0.83632827, 0.83233879, 0.83233879, 0.83233879, 0.83233879,\n",
      "       0.83233879, 0.83233879, 0.83233879, 0.83233879, 0.83233879,\n",
      "       0.83233879, 0.83233879, 0.83233879, 0.83233879, 0.83233879]), 'split42_test_roc_auc': array([0.6550637 , 0.67948444, 0.7557135 , 0.80163139, 0.82823056,\n",
      "       0.83775305, 0.83528186, 0.83528186, 0.83528186, 0.83528186,\n",
      "       0.83528186, 0.83528186, 0.83528186, 0.83528186, 0.83528186,\n",
      "       0.83528186, 0.83528186, 0.83528186, 0.83528186, 0.83528186]), 'split43_test_roc_auc': array([0.6524182 , 0.67754134, 0.74392677, 0.7887801 , 0.82098933,\n",
      "       0.83145308, 0.82730455, 0.82730455, 0.82730455, 0.82730455,\n",
      "       0.82730455, 0.82730455, 0.82730455, 0.82730455, 0.82730455,\n",
      "       0.82730455, 0.82730455, 0.82730455, 0.82730455, 0.82730455]), 'split44_test_roc_auc': array([0.65045116, 0.67679103, 0.74964165, 0.7946334 , 0.82480195,\n",
      "       0.83197088, 0.82604004, 0.82604004, 0.82604004, 0.82604004,\n",
      "       0.82604004, 0.82604004, 0.82604004, 0.82604004, 0.82604004,\n",
      "       0.82604004, 0.82604004, 0.82604004, 0.82604004, 0.82604004]), 'split45_test_roc_auc': array([0.65760948, 0.68306397, 0.75234255, 0.79542976, 0.82631937,\n",
      "       0.83415611, 0.83035501, 0.83035501, 0.83035501, 0.83035501,\n",
      "       0.83035501, 0.83035501, 0.83035501, 0.83035501, 0.83035501,\n",
      "       0.83035501, 0.83035501, 0.83035501, 0.83035501, 0.83035501]), 'split46_test_roc_auc': array([0.65868649, 0.6827528 , 0.75362415, 0.80213872, 0.83754773,\n",
      "       0.84761643, 0.84340402, 0.84340402, 0.84340402, 0.84340402,\n",
      "       0.84340402, 0.84340402, 0.84340402, 0.84340402, 0.84340402,\n",
      "       0.84340402, 0.84340402, 0.84340402, 0.84340402, 0.84340402]), 'split47_test_roc_auc': array([0.65568609, 0.68161664, 0.749165  , 0.79525882, 0.82943914,\n",
      "       0.83541864, 0.83201626, 0.83201626, 0.83201626, 0.83201626,\n",
      "       0.83201626, 0.83201626, 0.83201626, 0.83201626, 0.83201626,\n",
      "       0.83201626, 0.83201626, 0.83201626, 0.83201626, 0.83201626]), 'split48_test_roc_auc': array([0.65315254, 0.67516672, 0.74771104, 0.79722011, 0.82663671,\n",
      "       0.83630945, 0.83062664, 0.83062664, 0.83062664, 0.83062664,\n",
      "       0.83062664, 0.83062664, 0.83062664, 0.83062664, 0.83062664,\n",
      "       0.83062664, 0.83062664, 0.83062664, 0.83062664, 0.83062664]), 'split49_test_roc_auc': array([0.65100873, 0.67576379, 0.74648363, 0.79608013, 0.82563088,\n",
      "       0.83402125, 0.82901531, 0.82901531, 0.82901531, 0.82901531,\n",
      "       0.82901531, 0.82901531, 0.82901531, 0.82901531, 0.82901531,\n",
      "       0.82901531, 0.82901531, 0.82901531, 0.82901531, 0.82901531]), 'mean_test_roc_auc': array([0.6558366 , 0.68024583, 0.75054329, 0.79667898, 0.8279176 ,\n",
      "       0.83645784, 0.83184386, 0.83184386, 0.83184386, 0.83184386,\n",
      "       0.83184386, 0.83184386, 0.83184386, 0.83184386, 0.83184386,\n",
      "       0.83184386, 0.83184386, 0.83184386, 0.83184386, 0.83184386]), 'std_test_roc_auc': array([0.0039269 , 0.00373049, 0.00409059, 0.00401214, 0.00411504,\n",
      "       0.00404235, 0.00414592, 0.00414592, 0.00414592, 0.00414592,\n",
      "       0.00414592, 0.00414592, 0.00414592, 0.00414592, 0.00414592,\n",
      "       0.00414592, 0.00414592, 0.00414592, 0.00414592, 0.00414592]), 'rank_test_roc_auc': array([20, 19, 18, 17, 16,  1,  2,  2,  2,  2,  2,  2,  2,  2,  2,  2,  2,\n",
      "        2,  2,  2], dtype=int32), 'split0_test_recall': array([0.3286648 , 0.38437597, 0.3837535 , 0.65515095, 0.64239029,\n",
      "       0.64239029, 0.63554311, 0.63554311, 0.63554311, 0.63554311,\n",
      "       0.63554311, 0.63554311, 0.63554311, 0.63554311, 0.63554311,\n",
      "       0.63554311, 0.63554311, 0.63554311, 0.63554311, 0.63554311]), 'split1_test_recall': array([0.30812325, 0.34951758, 0.34951758, 0.63616558, 0.6215375 ,\n",
      "       0.6215375 , 0.61531279, 0.61531279, 0.61531279, 0.61531279,\n",
      "       0.61531279, 0.61531279, 0.61531279, 0.61531279, 0.61531279,\n",
      "       0.61531279, 0.61531279, 0.61531279, 0.61531279, 0.61531279]), 'split2_test_recall': array([0.30718954, 0.36227824, 0.36196701, 0.63865546, 0.62558357,\n",
      "       0.62558357, 0.61998133, 0.61998133, 0.61998133, 0.61998133,\n",
      "       0.61998133, 0.61998133, 0.61998133, 0.61998133, 0.61998133,\n",
      "       0.61998133, 0.61998133, 0.61998133, 0.61998133, 0.61998133]), 'split3_test_recall': array([0.3155929 , 0.36134454, 0.36072207, 0.63927793, 0.6249611 ,\n",
      "       0.6249611 , 0.61967009, 0.61967009, 0.61967009, 0.61967009,\n",
      "       0.61967009, 0.61967009, 0.61967009, 0.61967009, 0.61967009,\n",
      "       0.61967009, 0.61967009, 0.61967009, 0.61967009, 0.61967009]), 'split4_test_recall': array([0.31341425, 0.36041083, 0.35916589, 0.62962963, 0.62029256,\n",
      "       0.6206038 , 0.61313414, 0.61313414, 0.61313414, 0.61313414,\n",
      "       0.61313414, 0.61313414, 0.61313414, 0.61313414, 0.61313414,\n",
      "       0.61313414, 0.61313414, 0.61313414, 0.61313414, 0.61313414]), 'split5_test_recall': array([0.31497043, 0.36570184, 0.36507937, 0.63305322, 0.62247121,\n",
      "       0.62247121, 0.61873638, 0.61873638, 0.61873638, 0.61873638,\n",
      "       0.61873638, 0.61873638, 0.61873638, 0.61873638, 0.61873638,\n",
      "       0.61873638, 0.61873638, 0.61873638, 0.61873638, 0.61873638]), 'split6_test_recall': array([0.31528167, 0.36445689, 0.36290072, 0.62745098, 0.61873638,\n",
      "       0.61904762, 0.61220044, 0.61220044, 0.61220044, 0.61220044,\n",
      "       0.61220044, 0.61220044, 0.61220044, 0.61220044, 0.61220044,\n",
      "       0.61220044, 0.61220044, 0.61220044, 0.61220044, 0.61220044]), 'split7_test_recall': array([0.31185808, 0.35792095, 0.35760971, 0.63056334, 0.61998133,\n",
      "       0.61998133, 0.61562403, 0.61562403, 0.61562403, 0.61562403,\n",
      "       0.61562403, 0.61562403, 0.61562403, 0.61562403, 0.61562403,\n",
      "       0.61562403, 0.61562403, 0.61562403, 0.61562403, 0.61562403]), 'split8_test_recall': array([0.30718954, 0.36134454, 0.3610333 , 0.6389667 , 0.62558357,\n",
      "       0.62558357, 0.61873638, 0.61873638, 0.61873638, 0.61873638,\n",
      "       0.61873638, 0.61873638, 0.61873638, 0.61873638, 0.61873638,\n",
      "       0.61873638, 0.61873638, 0.61873638, 0.61873638, 0.61873638]), 'split9_test_recall': array([0.30261519, 0.35242839, 0.35211706, 0.64134496, 0.62733499,\n",
      "       0.62733499, 0.62235367, 0.62235367, 0.62235367, 0.62235367,\n",
      "       0.62235367, 0.62235367, 0.62235367, 0.62235367, 0.62235367,\n",
      "       0.62235367, 0.62235367, 0.62235367, 0.62235367, 0.62235367]), 'split10_test_recall': array([0.31092437, 0.36134454, 0.36041083, 0.64145658, 0.63180828,\n",
      "       0.63180828, 0.62371615, 0.62371615, 0.62371615, 0.62371615,\n",
      "       0.62371615, 0.62371615, 0.62371615, 0.62371615, 0.62371615,\n",
      "       0.62371615, 0.62371615, 0.62371615, 0.62371615, 0.62371615]), 'split11_test_recall': array([0.3059446 , 0.34827264, 0.34827264, 0.63616558, 0.62122627,\n",
      "       0.62122627, 0.61437908, 0.61437908, 0.61437908, 0.61437908,\n",
      "       0.61437908, 0.61437908, 0.61437908, 0.61437908, 0.61437908,\n",
      "       0.61437908, 0.61437908, 0.61437908, 0.61437908, 0.61437908]), 'split12_test_recall': array([0.31621538, 0.36476813, 0.36321195, 0.63678805, 0.62900716,\n",
      "       0.62900716, 0.62651727, 0.62651727, 0.62651727, 0.62651727,\n",
      "       0.62651727, 0.62651727, 0.62651727, 0.62651727, 0.62651727,\n",
      "       0.62651727, 0.62651727, 0.62651727, 0.62651727, 0.62651727]), 'split13_test_recall': array([0.30967943, 0.35760971, 0.35636477, 0.64550265, 0.63554311,\n",
      "       0.63554311, 0.62869592, 0.62869592, 0.62869592, 0.62869592,\n",
      "       0.62869592, 0.62869592, 0.62869592, 0.62869592, 0.62869592,\n",
      "       0.62869592, 0.62869592, 0.62869592, 0.62869592, 0.62869592]), 'split14_test_recall': array([0.32088391, 0.37068161, 0.37037037, 0.63211951, 0.61998133,\n",
      "       0.62029256, 0.61313414, 0.61313414, 0.61313414, 0.61313414,\n",
      "       0.61313414, 0.61313414, 0.61313414, 0.61313414, 0.61313414,\n",
      "       0.61313414, 0.61313414, 0.61313414, 0.61313414, 0.61313414]), 'split15_test_recall': array([0.3059446 , 0.36196701, 0.36165577, 0.63398693, 0.61967009,\n",
      "       0.61998133, 0.61251167, 0.61251167, 0.61251167, 0.61251167,\n",
      "       0.61251167, 0.61251167, 0.61251167, 0.61251167, 0.61251167,\n",
      "       0.61251167, 0.61251167, 0.61251167, 0.61251167, 0.61251167]), 'split16_test_recall': array([0.30563336, 0.35854342, 0.35823218, 0.63211951, 0.62215998,\n",
      "       0.62215998, 0.61811391, 0.61811391, 0.61811391, 0.61811391,\n",
      "       0.61811391, 0.61811391, 0.61811391, 0.61811391, 0.61811391,\n",
      "       0.61811391, 0.61811391, 0.61811391, 0.61811391, 0.61811391]), 'split17_test_recall': array([0.3155929 , 0.36321195, 0.36258948, 0.62931839, 0.61500156,\n",
      "       0.61500156, 0.61002179, 0.61002179, 0.61002179, 0.61002179,\n",
      "       0.61002179, 0.61002179, 0.61002179, 0.61002179, 0.61002179,\n",
      "       0.61002179, 0.61002179, 0.61002179, 0.61002179, 0.61002179]), 'split18_test_recall': array([0.3199502 , 0.36912543, 0.36881419, 0.65079365, 0.63772176,\n",
      "       0.63772176, 0.63180828, 0.63180828, 0.63180828, 0.63180828,\n",
      "       0.63180828, 0.63180828, 0.63180828, 0.63180828, 0.63180828,\n",
      "       0.63180828, 0.63180828, 0.63180828, 0.63180828, 0.63180828]), 'split19_test_recall': array([0.3141345 , 0.36425903, 0.3639477 , 0.63169365, 0.61674969,\n",
      "       0.61674969, 0.61239103, 0.61239103, 0.61239103, 0.61239103,\n",
      "       0.61239103, 0.61239103, 0.61239103, 0.61239103, 0.61239103,\n",
      "       0.61239103, 0.61239103, 0.61239103, 0.61239103, 0.61239103]), 'split20_test_recall': array([0.3286648 , 0.37566138, 0.3750389 , 0.63554311, 0.62402739,\n",
      "       0.62402739, 0.61967009, 0.61967009, 0.61967009, 0.61967009,\n",
      "       0.61967009, 0.61967009, 0.61967009, 0.61967009, 0.61967009,\n",
      "       0.61967009, 0.61967009, 0.61967009, 0.61967009, 0.61967009]), 'split21_test_recall': array([0.30283224, 0.35792095, 0.35729847, 0.63305322, 0.62278245,\n",
      "       0.62278245, 0.61842515, 0.61842515, 0.61842515, 0.61842515,\n",
      "       0.61842515, 0.61842515, 0.61842515, 0.61842515, 0.61842515,\n",
      "       0.61842515, 0.61842515, 0.61842515, 0.61842515, 0.61842515]), 'split22_test_recall': array([0.30656707, 0.35916589, 0.35916589, 0.63585434, 0.62340492,\n",
      "       0.62340492, 0.61811391, 0.61811391, 0.61811391, 0.61811391,\n",
      "       0.61811391, 0.61811391, 0.61811391, 0.61811391, 0.61811391,\n",
      "       0.61811391, 0.61811391, 0.61811391, 0.61811391, 0.61811391]), 'split23_test_recall': array([0.31497043, 0.36321195, 0.36258948, 0.63585434, 0.62433862,\n",
      "       0.62433862, 0.61935885, 0.61935885, 0.61935885, 0.61935885,\n",
      "       0.61935885, 0.61935885, 0.61935885, 0.61935885, 0.61935885,\n",
      "       0.61935885, 0.61935885, 0.61935885, 0.61935885, 0.61935885]), 'split24_test_recall': array([0.31341425, 0.36072207, 0.35978836, 0.64021164, 0.62994087,\n",
      "       0.63056334, 0.62371615, 0.62371615, 0.62371615, 0.62371615,\n",
      "       0.62371615, 0.62371615, 0.62371615, 0.62371615, 0.62371615,\n",
      "       0.62371615, 0.62371615, 0.62371615, 0.62371615, 0.62371615]), 'split25_test_recall': array([0.32586368, 0.36850296, 0.36788049, 0.63398693, 0.6249611 ,\n",
      "       0.6249611 , 0.61904762, 0.61904762, 0.61904762, 0.61904762,\n",
      "       0.61904762, 0.61904762, 0.61904762, 0.61904762, 0.61904762,\n",
      "       0.61904762, 0.61904762, 0.61904762, 0.61904762, 0.61904762]), 'split26_test_recall': array([0.29816371, 0.34796141, 0.34671646, 0.6258948 , 0.61033302,\n",
      "       0.61033302, 0.60255213, 0.60255213, 0.60255213, 0.60255213,\n",
      "       0.60255213, 0.60255213, 0.60255213, 0.60255213, 0.60255213,\n",
      "       0.60255213, 0.60255213, 0.60255213, 0.60255213, 0.60255213]), 'split27_test_recall': array([0.30625584, 0.36383442, 0.36352319, 0.63803299, 0.62247121,\n",
      "       0.62247121, 0.61655773, 0.61655773, 0.61655773, 0.61655773,\n",
      "       0.61655773, 0.61655773, 0.61655773, 0.61655773, 0.61655773,\n",
      "       0.61655773, 0.61655773, 0.61655773, 0.61655773, 0.61655773]), 'split28_test_recall': array([0.30905696, 0.35947712, 0.35916589, 0.6442577 , 0.62994087,\n",
      "       0.62994087, 0.62247121, 0.62247121, 0.62247121, 0.62247121,\n",
      "       0.62247121, 0.62247121, 0.62247121, 0.62247121, 0.62247121,\n",
      "       0.62247121, 0.62247121, 0.62247121, 0.62247121, 0.62247121]), 'split29_test_recall': array([0.31911582, 0.36332503, 0.36270237, 0.64757161, 0.63667497,\n",
      "       0.63667497, 0.63138232, 0.63138232, 0.63138232, 0.63138232,\n",
      "       0.63138232, 0.63138232, 0.63138232, 0.63138232, 0.63138232,\n",
      "       0.63138232, 0.63138232, 0.63138232, 0.63138232, 0.63138232]), 'split30_test_recall': array([0.32648615, 0.37223778, 0.37192655, 0.64768129, 0.63616558,\n",
      "       0.63616558, 0.62869592, 0.62869592, 0.62869592, 0.62869592,\n",
      "       0.62869592, 0.62869592, 0.62869592, 0.62869592, 0.62869592,\n",
      "       0.62869592, 0.62869592, 0.62869592, 0.62869592, 0.62869592]), 'split31_test_recall': array([0.30469966, 0.35823218, 0.35792095, 0.643324  , 0.62838469,\n",
      "       0.62838469, 0.6215375 , 0.6215375 , 0.6215375 , 0.6215375 ,\n",
      "       0.6215375 , 0.6215375 , 0.6215375 , 0.6215375 , 0.6215375 ,\n",
      "       0.6215375 , 0.6215375 , 0.6215375 , 0.6215375 , 0.6215375 ]), 'split32_test_recall': array([0.30345472, 0.35760971, 0.356676  , 0.62994087, 0.61718021,\n",
      "       0.61749144, 0.61157796, 0.61157796, 0.61157796, 0.61157796,\n",
      "       0.61157796, 0.61157796, 0.61157796, 0.61157796, 0.61157796,\n",
      "       0.61157796, 0.61157796, 0.61157796, 0.61157796, 0.61157796]), 'split33_test_recall': array([0.31403673, 0.35947712, 0.35916589, 0.63647681, 0.62713974,\n",
      "       0.62713974, 0.62091503, 0.62091503, 0.62091503, 0.62091503,\n",
      "       0.62091503, 0.62091503, 0.62091503, 0.62091503, 0.62091503,\n",
      "       0.62091503, 0.62091503, 0.62091503, 0.62091503, 0.62091503]), 'split34_test_recall': array([0.29691877, 0.34609399, 0.34547152, 0.62309368, 0.60846561,\n",
      "       0.60846561, 0.60192966, 0.60192966, 0.60192966, 0.60192966,\n",
      "       0.60192966, 0.60192966, 0.60192966, 0.60192966, 0.60192966,\n",
      "       0.60192966, 0.60192966, 0.60192966, 0.60192966, 0.60192966]), 'split35_test_recall': array([0.31963897, 0.37161531, 0.37099284, 0.64176782, 0.63118581,\n",
      "       0.63118581, 0.6258948 , 0.6258948 , 0.6258948 , 0.6258948 ,\n",
      "       0.6258948 , 0.6258948 , 0.6258948 , 0.6258948 , 0.6258948 ,\n",
      "       0.6258948 , 0.6258948 , 0.6258948 , 0.6258948 , 0.6258948 ]), 'split36_test_recall': array([0.31279178, 0.36663554, 0.36601307, 0.63865546, 0.62433862,\n",
      "       0.62433862, 0.61998133, 0.61998133, 0.61998133, 0.61998133,\n",
      "       0.61998133, 0.61998133, 0.61998133, 0.61998133, 0.61998133,\n",
      "       0.61998133, 0.61998133, 0.61998133, 0.61998133, 0.61998133]), 'split37_test_recall': array([0.31932773, 0.37005913, 0.3697479 , 0.64643635, 0.63367569,\n",
      "       0.63367569, 0.62745098, 0.62745098, 0.62745098, 0.62745098,\n",
      "       0.62745098, 0.62745098, 0.62745098, 0.62745098, 0.62745098,\n",
      "       0.62745098, 0.62745098, 0.62745098, 0.62745098, 0.62745098]), 'split38_test_recall': array([0.32150638, 0.36321195, 0.36196701, 0.62682851, 0.61904762,\n",
      "       0.61904762, 0.61655773, 0.61655773, 0.61655773, 0.61655773,\n",
      "       0.61655773, 0.61655773, 0.61655773, 0.61655773, 0.61655773,\n",
      "       0.61655773, 0.61655773, 0.61655773, 0.61655773, 0.61655773]), 'split39_test_recall': array([0.30603985, 0.35460772, 0.35398506, 0.6360523 , 0.62328767,\n",
      "       0.623599  , 0.61674969, 0.61674969, 0.61674969, 0.61674969,\n",
      "       0.61674969, 0.61674969, 0.61674969, 0.61674969, 0.61674969,\n",
      "       0.61674969, 0.61674969, 0.61674969, 0.61674969, 0.61674969]), 'split40_test_recall': array([0.32306256, 0.36912543, 0.36850296, 0.6399004 , 0.62869592,\n",
      "       0.62869592, 0.6206038 , 0.6206038 , 0.6206038 , 0.6206038 ,\n",
      "       0.6206038 , 0.6206038 , 0.6206038 , 0.6206038 , 0.6206038 ,\n",
      "       0.6206038 , 0.6206038 , 0.6206038 , 0.6206038 , 0.6206038 ]), 'split41_test_recall': array([0.32710862, 0.3750389 , 0.37472767, 0.63429816, 0.62402739,\n",
      "       0.62402739, 0.6206038 , 0.6206038 , 0.6206038 , 0.6206038 ,\n",
      "       0.6206038 , 0.6206038 , 0.6206038 , 0.6206038 , 0.6206038 ,\n",
      "       0.6206038 , 0.6206038 , 0.6206038 , 0.6206038 , 0.6206038 ]), 'split42_test_recall': array([0.31092437, 0.36041083, 0.3600996 , 0.64270153, 0.63211951,\n",
      "       0.63211951, 0.62807345, 0.62807345, 0.62807345, 0.62807345,\n",
      "       0.62807345, 0.62807345, 0.62807345, 0.62807345, 0.62807345,\n",
      "       0.62807345, 0.62807345, 0.62807345, 0.62807345, 0.62807345]), 'split43_test_recall': array([0.30563336, 0.35729847, 0.35729847, 0.62651727, 0.61406785,\n",
      "       0.61406785, 0.60877684, 0.60877684, 0.60877684, 0.60877684,\n",
      "       0.60877684, 0.60877684, 0.60877684, 0.60877684, 0.60877684,\n",
      "       0.60877684, 0.60877684, 0.60877684, 0.60877684, 0.60877684]), 'split44_test_recall': array([0.30189854, 0.35480859, 0.35387488, 0.62527233, 0.61033302,\n",
      "       0.61033302, 0.60192966, 0.60192966, 0.60192966, 0.60192966,\n",
      "       0.60192966, 0.60192966, 0.60192966, 0.60192966, 0.60192966,\n",
      "       0.60192966, 0.60192966, 0.60192966, 0.60192966, 0.60192966]), 'split45_test_recall': array([0.31621538, 0.36788049, 0.36694678, 0.63709928, 0.62558357,\n",
      "       0.6258948 , 0.61967009, 0.61967009, 0.61967009, 0.61967009,\n",
      "       0.61967009, 0.61967009, 0.61967009, 0.61967009, 0.61967009,\n",
      "       0.61967009, 0.61967009, 0.61967009, 0.61967009, 0.61967009]), 'split46_test_recall': array([0.31777155, 0.36632431, 0.36570184, 0.65608466, 0.6442577 ,\n",
      "       0.6442577 , 0.63834423, 0.63834423, 0.63834423, 0.63834423,\n",
      "       0.63834423, 0.63834423, 0.63834423, 0.63834423, 0.63834423,\n",
      "       0.63834423, 0.63834423, 0.63834423, 0.63834423, 0.63834423]), 'split47_test_recall': array([0.31216931, 0.36476813, 0.36383442, 0.63274199, 0.62247121,\n",
      "       0.62278245, 0.61935885, 0.61935885, 0.61935885, 0.61935885,\n",
      "       0.61935885, 0.61935885, 0.61935885, 0.61935885, 0.61935885,\n",
      "       0.61935885, 0.61935885, 0.61935885, 0.61935885, 0.61935885]), 'split48_test_recall': array([0.30750078, 0.35169623, 0.351385  , 0.63647681, 0.6215375 ,\n",
      "       0.6215375 , 0.61655773, 0.61655773, 0.61655773, 0.61655773,\n",
      "       0.61655773, 0.61655773, 0.61655773, 0.61655773, 0.61655773,\n",
      "       0.61655773, 0.61655773, 0.61655773, 0.61655773, 0.61655773]), 'split49_test_recall': array([0.30261519, 0.35242839, 0.3514944 , 0.6379203 , 0.62577833,\n",
      "       0.62577833, 0.61737235, 0.61737235, 0.61737235, 0.61737235,\n",
      "       0.61737235, 0.61737235, 0.61737235, 0.61737235, 0.61737235,\n",
      "       0.61737235, 0.61737235, 0.61737235, 0.61737235, 0.61737235]), 'mean_test_recall': array([0.31249016, 0.36197813, 0.36138677, 0.63699468, 0.62488721,\n",
      "       0.62494946, 0.61912916, 0.61912916, 0.61912916, 0.61912916,\n",
      "       0.61912916, 0.61912916, 0.61912916, 0.61912916, 0.61912916,\n",
      "       0.61912916, 0.61912916, 0.61912916, 0.61912916, 0.61912916]), 'std_test_recall': array([0.00785565, 0.00748622, 0.00748091, 0.00723119, 0.00751719,\n",
      "       0.00750042, 0.00756987, 0.00756987, 0.00756987, 0.00756987,\n",
      "       0.00756987, 0.00756987, 0.00756987, 0.00756987, 0.00756987,\n",
      "       0.00756987, 0.00756987, 0.00756987, 0.00756987, 0.00756987]), 'rank_test_recall': array([20, 18, 19,  1,  3,  2,  4,  4,  4,  4,  4,  4,  4,  4,  4,  4,  4,\n",
      "        4,  4,  4], dtype=int32), 'split0_test_balanced_accuracy': array([0.66373467, 0.69119177, 0.69187675, 0.75325788, 0.76979048,\n",
      "       0.77417383, 0.77682714, 0.77682714, 0.77682714, 0.77682714,\n",
      "       0.77682714, 0.77682714, 0.77682714, 0.77682714, 0.77682714,\n",
      "       0.77682714, 0.77682714, 0.77682714, 0.77682714, 0.77682714]), 'split1_test_balanced_accuracy': array([0.65386238, 0.67376258, 0.67475879, 0.74575762, 0.75826825,\n",
      "       0.76245235, 0.76681161, 0.76681161, 0.76681161, 0.76681161,\n",
      "       0.76681161, 0.76681161, 0.76681161, 0.76681161, 0.76681161,\n",
      "       0.76681161, 0.76681161, 0.76681161, 0.76681161, 0.76681161]), 'split2_test_balanced_accuracy': array([0.65319629, 0.68064102, 0.68088388, 0.74132414, 0.7598928 ,\n",
      "       0.76467463, 0.76765155, 0.76765155, 0.76765155, 0.76765155,\n",
      "       0.76765155, 0.76765155, 0.76765155, 0.76765155, 0.76765155,\n",
      "       0.76765155, 0.76765155, 0.76765155, 0.76765155, 0.76765155]), 'split3_test_balanced_accuracy': array([0.65759721, 0.67937719, 0.67996255, 0.74791153, 0.76127513,\n",
      "       0.76535961, 0.76789442, 0.76789442, 0.76789442, 0.76789442,\n",
      "       0.76789442, 0.76789442, 0.76789442, 0.76789442, 0.76789442,\n",
      "       0.76789442, 0.76789442, 0.76789442, 0.76789442, 0.76789442]), 'split4_test_balanced_accuracy': array([0.65650788, 0.67930882, 0.67958294, 0.73860441, 0.75684881,\n",
      "       0.76138777, 0.7644272 , 0.7644272 , 0.7644272 , 0.7644272 ,\n",
      "       0.7644272 , 0.7644272 , 0.7644272 , 0.7644272 , 0.7644272 ,\n",
      "       0.7644272 , 0.7644272 , 0.7644272 , 0.7644272 , 0.7644272 ]), 'split5_test_balanced_accuracy': array([0.65718629, 0.68225307, 0.68244004, 0.74319062, 0.75792751,\n",
      "       0.76310886, 0.76791741, 0.76791741, 0.76791741, 0.76791741,\n",
      "       0.76791741, 0.76791741, 0.76791741, 0.76791741, 0.76791741,\n",
      "       0.76791741, 0.76791741, 0.76791741, 0.76791741, 0.76791741]), 'split6_test_balanced_accuracy': array([0.65724227, 0.68123203, 0.68115143, 0.74178448, 0.75805293,\n",
      "       0.7621942 , 0.76415123, 0.76415123, 0.76415123, 0.76415123,\n",
      "       0.76415123, 0.76415123, 0.76415123, 0.76415123, 0.76415123,\n",
      "       0.76415123, 0.76415123, 0.76415123, 0.76415123, 0.76415123]), 'split7_test_balanced_accuracy': array([0.65523155, 0.67756549, 0.67860557, 0.74094926, 0.75857576,\n",
      "       0.7632589 , 0.76666016, 0.76666016, 0.76666016, 0.76666016,\n",
      "       0.76666016, 0.76666016, 0.76666016, 0.76666016, 0.76666016,\n",
      "       0.76666016, 0.76666016, 0.76666016, 0.76666016, 0.76666016]), 'split8_test_balanced_accuracy': array([0.65319621, 0.67907801, 0.68041701, 0.74774162, 0.76177544,\n",
      "       0.76645858, 0.76871454, 0.76871454, 0.76871454, 0.76871454,\n",
      "       0.76871454, 0.76871454, 0.76871454, 0.76871454, 0.76871454,\n",
      "       0.76871454, 0.76871454, 0.76871454, 0.76871454, 0.76871454]), 'split9_test_balanced_accuracy': array([0.65061025, 0.67491912, 0.67575967, 0.74675337, 0.76196397,\n",
      "       0.76594883, 0.76923621, 0.76923621, 0.76923621, 0.76923621,\n",
      "       0.76923621, 0.76923621, 0.76923621, 0.76923621, 0.76923621,\n",
      "       0.76923621, 0.76923621, 0.76923621, 0.76923621, 0.76923621]), 'split10_test_balanced_accuracy': array([0.65496408, 0.67957643, 0.67990655, 0.75019631, 0.76609342,\n",
      "       0.76997866, 0.7720095 , 0.7720095 , 0.7720095 , 0.7720095 ,\n",
      "       0.7720095 , 0.7720095 , 0.7720095 , 0.7720095 , 0.7720095 ,\n",
      "       0.7720095 , 0.7720095 , 0.7720095 , 0.7720095 , 0.7720095 ]), 'split11_test_balanced_accuracy': array([0.6529723 , 0.67353859, 0.67413632, 0.74605649, 0.75990582,\n",
      "       0.76508614, 0.76773945, 0.76773945, 0.76773945, 0.76773945,\n",
      "       0.76773945, 0.76773945, 0.76773945, 0.76773945, 0.76773945,\n",
      "       0.76773945, 0.76773945, 0.76773945, 0.76773945, 0.76773945]), 'split12_test_balanced_accuracy': array([0.65721109, 0.68088974, 0.68130711, 0.74258211, 0.76060838,\n",
      "       0.76379627, 0.77042142, 0.77042142, 0.77042142, 0.77042142,\n",
      "       0.77042142, 0.77042142, 0.77042142, 0.77042142, 0.77042142,\n",
      "       0.77042142, 0.77042142, 0.77042142, 0.77042142, 0.77042142]), 'split13_test_balanced_accuracy': array([0.65414236, 0.67731053, 0.67818238, 0.74614244, 0.76198355,\n",
      "       0.76646651, 0.76862172, 0.76862172, 0.76862172, 0.76862172,\n",
      "       0.76862172, 0.76862172, 0.76862172, 0.76862172, 0.76862172,\n",
      "       0.76862172, 0.76862172, 0.76862172, 0.76862172, 0.76862172]), 'split14_test_balanced_accuracy': array([0.66014309, 0.68404572, 0.68508556, 0.74313686, 0.75848638,\n",
      "       0.76222837, 0.76512455, 0.76512455, 0.76512455, 0.76512455,\n",
      "       0.76512455, 0.76512455, 0.76512455, 0.76512455, 0.76512455,\n",
      "       0.76512455, 0.76512455, 0.76512455, 0.76512455, 0.76512455]), 'split15_test_balanced_accuracy': array([0.65247409, 0.68008673, 0.68072825, 0.74196357, 0.75732408,\n",
      "       0.76216284, 0.76380865, 0.76380865, 0.76380865, 0.76380865,\n",
      "       0.76380865, 0.76380865, 0.76380865, 0.76380865, 0.76380865,\n",
      "       0.76380865, 0.76380865, 0.76380865, 0.76380865, 0.76380865]), 'split16_test_balanced_accuracy': array([0.65241812, 0.67797637, 0.67881717, 0.74172735, 0.75876831,\n",
      "       0.76375037, 0.76800474, 0.76800474, 0.76800474, 0.76800474,\n",
      "       0.76800474, 0.76800474, 0.76800474, 0.76800474, 0.76800474,\n",
      "       0.76800474, 0.76800474, 0.76800474, 0.76800474, 0.76800474]), 'split17_test_balanced_accuracy': array([0.65739789, 0.68080885, 0.6811951 , 0.74341567, 0.75768013,\n",
      "       0.76226363, 0.76565258, 0.76565258, 0.76565258, 0.76565258,\n",
      "       0.76565258, 0.76565258, 0.76565258, 0.76565258, 0.76565258,\n",
      "       0.76565258, 0.76565258, 0.76565258, 0.76565258, 0.76565258]), 'split18_test_balanced_accuracy': array([0.65967618, 0.68376558, 0.68430745, 0.74966944, 0.76644956,\n",
      "       0.77183019, 0.774553  , 0.774553  , 0.774553  , 0.774553  ,\n",
      "       0.774553  , 0.774553  , 0.774553  , 0.774553  , 0.774553  ,\n",
      "       0.774553  , 0.774553  , 0.774553  , 0.774553  , 0.774553  ]), 'split19_test_balanced_accuracy': array([0.65696763, 0.68133254, 0.68177461, 0.74212696, 0.7570698 ,\n",
      "       0.76145315, 0.76435451, 0.76435451, 0.76435451, 0.76435451,\n",
      "       0.76435451, 0.76435451, 0.76435451, 0.76435451, 0.76435451,\n",
      "       0.76435451, 0.76435451, 0.76435451, 0.76435451, 0.76435451]), 'split20_test_balanced_accuracy': array([0.66393391, 0.68623674, 0.68741983, 0.74305547, 0.75632531,\n",
      "       0.76170487, 0.76590199, 0.76590199, 0.76590199, 0.76590199,\n",
      "       0.76590199, 0.76590199, 0.76590199, 0.76590199, 0.76590199,\n",
      "       0.76590199, 0.76590199, 0.76590199, 0.76590199, 0.76590199]), 'split21_test_balanced_accuracy': array([0.65121688, 0.67806388, 0.67844999, 0.74181053, 0.75958808,\n",
      "       0.76357293, 0.76806892, 0.76806892, 0.76806892, 0.76806892,\n",
      "       0.76806892, 0.76806892, 0.76806892, 0.76806892, 0.76806892,\n",
      "       0.76806892, 0.76806892, 0.76806892, 0.76806892, 0.76806892]), 'split22_test_balanced_accuracy': array([0.65258619, 0.67838749, 0.67948332, 0.74171677, 0.75970007,\n",
      "       0.76398379, 0.76661822, 0.76661822, 0.76661822, 0.76661822,\n",
      "       0.76661822, 0.76661822, 0.76661822, 0.76661822, 0.76661822,\n",
      "       0.76661822, 0.76661822, 0.76661822, 0.76661822, 0.76661822]), 'split23_test_balanced_accuracy': array([0.65708673, 0.68041052, 0.68099588, 0.73743305, 0.75598282,\n",
      "       0.76116314, 0.76465054, 0.76465054, 0.76465054, 0.76465054,\n",
      "       0.76465054, 0.76465054, 0.76465054, 0.76465054, 0.76465054,\n",
      "       0.76465054, 0.76465054, 0.76465054, 0.76465054, 0.76465054]), 'split24_test_balanced_accuracy': array([0.65640826, 0.67936482, 0.67979456, 0.74957384, 0.76506009,\n",
      "       0.77025278, 0.77210912, 0.77210912, 0.77210912, 0.77210912,\n",
      "       0.77210912, 0.77210912, 0.77210912, 0.77210912, 0.77210912,\n",
      "       0.77210912, 0.77210912, 0.77210912, 0.77210912, 0.77210912]), 'split25_test_balanced_accuracy': array([0.66253327, 0.68345435, 0.68374096, 0.74325891, 0.76036815,\n",
      "       0.76455309, 0.76906945, 0.76906945, 0.76906945, 0.76906945,\n",
      "       0.76906945, 0.76906945, 0.76906945, 0.76906945, 0.76906945,\n",
      "       0.76906945, 0.76906945, 0.76906945, 0.76906945, 0.76906945]), 'split26_test_balanced_accuracy': array([0.64888257, 0.67298429, 0.67315895, 0.7431985 , 0.7566412 ,\n",
      "       0.76042757, 0.76261524, 0.76261524, 0.76261524, 0.76261524,\n",
      "       0.76261524, 0.76261524, 0.76261524, 0.76261524, 0.76261524,\n",
      "       0.76261524, 0.76261524, 0.76261524, 0.76261524, 0.76261524]), 'split27_test_balanced_accuracy': array([0.65272935, 0.68102044, 0.68166195, 0.74847046, 0.7615146 ,\n",
      "       0.76510169, 0.76772486, 0.76772486, 0.76772486, 0.76772486,\n",
      "       0.76772486, 0.76772486, 0.76772486, 0.76772486, 0.76772486,\n",
      "       0.76772486, 0.76772486, 0.76772486, 0.76772486, 0.76772486]), 'split28_test_balanced_accuracy': array([0.65422955, 0.67904107, 0.67938366, 0.7471986 , 0.76295768,\n",
      "       0.76764082, 0.77058196, 0.77058196, 0.77058196, 0.77058196,\n",
      "       0.77058196, 0.77058196, 0.77058196, 0.77058196, 0.77058196,\n",
      "       0.77058196, 0.77058196, 0.77058196, 0.77058196, 0.77058196]), 'split29_test_balanced_accuracy': array([0.65876094, 0.68036744, 0.68135118, 0.75165988, 0.76623547,\n",
      "       0.77061882, 0.77295356, 0.77295356, 0.77295356, 0.77295356,\n",
      "       0.77295356, 0.77295356, 0.77295356, 0.77295356, 0.77295356,\n",
      "       0.77295356, 0.77295356, 0.77295356, 0.77295356, 0.77295356]), 'split30_test_balanced_accuracy': array([0.66264535, 0.68462457, 0.68556479, 0.75520148, 0.76906904,\n",
      "       0.77385087, 0.77469863, 0.77469863, 0.77469863, 0.77469863,\n",
      "       0.77469863, 0.77469863, 0.77469863, 0.77469863, 0.77469863,\n",
      "       0.77469863, 0.77469863, 0.77469863, 0.77469863, 0.77469863]), 'split31_test_balanced_accuracy': array([0.65185172, 0.67792063, 0.67886085, 0.748241  , 0.76039677,\n",
      "       0.76398314, 0.76643721, 0.76643721, 0.76643721, 0.76643721,\n",
      "       0.76643721, 0.76643721, 0.76643721, 0.76643721, 0.76643721,\n",
      "       0.76643721, 0.76643721, 0.76643721, 0.76643721, 0.76643721]), 'split32_test_balanced_accuracy': array([0.65132887, 0.67790826, 0.67803914, 0.74025435, 0.75519301,\n",
      "       0.76102705, 0.76454571, 0.76454571, 0.76454571, 0.76454571,\n",
      "       0.76454571, 0.76454571, 0.76454571, 0.76454571, 0.76454571,\n",
      "       0.76454571, 0.76454571, 0.76454571, 0.76454571, 0.76454571]), 'split33_test_balanced_accuracy': array([0.65652026, 0.67864273, 0.67948332, 0.74720832, 0.76455612,\n",
      "       0.76893947, 0.77290023, 0.77290023, 0.77290023, 0.77290023,\n",
      "       0.77290023, 0.77290023, 0.77290023, 0.77290023, 0.77290023,\n",
      "       0.77290023, 0.77290023, 0.77290023, 0.77290023, 0.77290023]), 'split34_test_balanced_accuracy': array([0.64796128, 0.67205078, 0.67273576, 0.73543606, 0.75093533,\n",
      "       0.75511944, 0.75782875, 0.75782875, 0.75782875, 0.75782875,\n",
      "       0.75782875, 0.75782875, 0.75782875, 0.75782875, 0.75782875,\n",
      "       0.75782875, 0.75782875, 0.75782875, 0.75782875, 0.75782875]), 'split35_test_balanced_accuracy': array([0.6596202 , 0.68501053, 0.68529714, 0.74625258, 0.76358015,\n",
      "       0.76826329, 0.77169591, 0.77169591, 0.77169591, 0.77169591,\n",
      "       0.77169591, 0.77169591, 0.77169591, 0.77169591, 0.77169591,\n",
      "       0.77169591, 0.77169591, 0.77169591, 0.77169591, 0.77169591]), 'split36_test_balanced_accuracy': array([0.65609697, 0.68252064, 0.68290689, 0.74489569, 0.76015656,\n",
      "       0.76513862, 0.76923737, 0.76923737, 0.76923737, 0.76923737,\n",
      "       0.76923737, 0.76923737, 0.76923737, 0.76923737, 0.76923737,\n",
      "       0.76923737, 0.76923737, 0.76923737, 0.76923737, 0.76923737]), 'split37_test_balanced_accuracy': array([0.65946458, 0.68393351, 0.68467467, 0.7508786 , 0.76562222,\n",
      "       0.76930895, 0.77157722, 0.77157722, 0.77157722, 0.77157722,\n",
      "       0.77157722, 0.77157722, 0.77157722, 0.77157722, 0.77157722,\n",
      "       0.77157722, 0.77157722, 0.77157722, 0.77157722, 0.77157722]), 'split38_test_balanced_accuracy': array([0.66035462, 0.6807092 , 0.68088386, 0.73778651, 0.75681357,\n",
      "       0.76079922, 0.76523383, 0.76523383, 0.76523383, 0.76523383,\n",
      "       0.76523383, 0.76523383, 0.76523383, 0.76523383, 0.76523383,\n",
      "       0.76523383, 0.76523383, 0.76523383, 0.76523383, 0.76523383]), 'split39_test_balanced_accuracy': array([0.65252182, 0.67600878, 0.67699253, 0.74131764, 0.7580475 ,\n",
      "       0.76258651, 0.76613535, 0.76613535, 0.76613535, 0.76613535,\n",
      "       0.76613535, 0.76613535, 0.76613535, 0.76613535, 0.76613535,\n",
      "       0.76613535, 0.76613535, 0.76613535, 0.76613535, 0.76613535]), 'split40_test_balanced_accuracy': array([0.66113279, 0.68296877, 0.68415186, 0.74712693, 0.76184746,\n",
      "       0.76603156, 0.76726544, 0.76726544, 0.76726544, 0.76726544,\n",
      "       0.76726544, 0.76726544, 0.76726544, 0.76726544, 0.76726544,\n",
      "       0.76726544, 0.76726544, 0.76726544, 0.76726544, 0.76726544]), 'split41_test_balanced_accuracy': array([0.66315582, 0.68652324, 0.68706497, 0.73924512, 0.75652455,\n",
      "       0.76160525, 0.76806241, 0.76806241, 0.76806241, 0.76806241,\n",
      "       0.76806241, 0.76806241, 0.76806241, 0.76806241, 0.76806241,\n",
      "       0.76806241, 0.76806241, 0.76806241, 0.76806241, 0.76806241]), 'split42_test_balanced_accuracy': array([0.6550637 , 0.6792092 , 0.67995018, 0.74812901, 0.76345964,\n",
      "       0.76784298, 0.77169761, 0.77169761, 0.77169761, 0.77169761,\n",
      "       0.77169761, 0.77169761, 0.77169761, 0.77169761, 0.77169761,\n",
      "       0.77169761, 0.77169761, 0.77169761, 0.77169761, 0.77169761]), 'split43_test_balanced_accuracy': array([0.6524182 , 0.67705529, 0.67815113, 0.73834332, 0.75483229,\n",
      "       0.75891677, 0.76314515, 0.76314515, 0.76314515, 0.76314515,\n",
      "       0.76314515, 0.76314515, 0.76314515, 0.76314515, 0.76314515,\n",
      "       0.76314515, 0.76314515, 0.76314515, 0.76314515, 0.76314515]), 'split44_test_balanced_accuracy': array([0.65045116, 0.6765077 , 0.67693744, 0.74260229, 0.75485768,\n",
      "       0.75944027, 0.76101663, 0.76101663, 0.76101663, 0.76101663,\n",
      "       0.76101663, 0.76101663, 0.76101663, 0.76101663, 0.76101663,\n",
      "       0.76101663, 0.76101663, 0.76101663, 0.76101663, 0.76101663]), 'split45_test_balanced_accuracy': array([0.65760948, 0.68264491, 0.68337375, 0.74282226, 0.75778979,\n",
      "       0.76252891, 0.76439862, 0.76439862, 0.76439862, 0.76439862,\n",
      "       0.76439862, 0.76439862, 0.76439862, 0.76439862, 0.76439862,\n",
      "       0.76439862, 0.76439862, 0.76439862, 0.76439862, 0.76439862]), 'split46_test_balanced_accuracy': array([0.65868649, 0.68256431, 0.68285092, 0.75151782, 0.7701161 ,\n",
      "       0.77539709, 0.77752205, 0.77752205, 0.77752205, 0.77752205,\n",
      "       0.77752205, 0.77752205, 0.77752205, 0.77752205, 0.77752205,\n",
      "       0.77752205, 0.77752205, 0.77752205, 0.77752205, 0.77752205]), 'split47_test_balanced_accuracy': array([0.65568609, 0.68138765, 0.68161829, 0.74413106, 0.76251101,\n",
      "       0.76575551, 0.77002219, 0.77002219, 0.77002219, 0.77002219,\n",
      "       0.77002219, 0.77002219, 0.77002219, 0.77002219, 0.77002219,\n",
      "       0.77002219, 0.77002219, 0.77002219, 0.77002219, 0.77002219]), 'split48_test_balanced_accuracy': array([0.65315254, 0.6748517 , 0.6756925 , 0.74629739, 0.76054954,\n",
      "       0.76533232, 0.76911984, 0.76911984, 0.76911984, 0.76911984,\n",
      "       0.76911984, 0.76911984, 0.76911984, 0.76911984, 0.76911984,\n",
      "       0.76911984, 0.76911984, 0.76911984, 0.76911984, 0.76911984]), 'split49_test_balanced_accuracy': array([0.65100873, 0.67561647, 0.67564758, 0.74653536, 0.76188299,\n",
      "       0.76616671, 0.76804063, 0.76804063, 0.76804063, 0.76804063,\n",
      "       0.76804063, 0.76804063, 0.76804063, 0.76804063, 0.76804063,\n",
      "       0.76804063, 0.76804063, 0.76804063, 0.76804063, 0.76804063]), 'mean_test_balanced_accuracy': array([0.6558366 , 0.679933  , 0.68054394, 0.74471782, 0.76043711,\n",
      "       0.76490174, 0.76802913, 0.76802913, 0.76802913, 0.76802913,\n",
      "       0.76802913, 0.76802913, 0.76802913, 0.76802913, 0.76802913,\n",
      "       0.76802913, 0.76802913, 0.76802913, 0.76802913, 0.76802913]), 'std_test_balanced_accuracy': array([0.0039269 , 0.00372306, 0.00372513, 0.004277  , 0.00401908,\n",
      "       0.0040376 , 0.00384191, 0.00384191, 0.00384191, 0.00384191,\n",
      "       0.00384191, 0.00384191, 0.00384191, 0.00384191, 0.00384191,\n",
      "       0.00384191, 0.00384191, 0.00384191, 0.00384191, 0.00384191]), 'rank_test_balanced_accuracy': array([20, 19, 18, 17, 16, 15,  1,  1,  1,  1,  1,  1,  1,  1,  1,  1,  1,\n",
      "        1,  1,  1], dtype=int32)}\n"
     ]
    }
   ],
   "source": [
    "print(model.cv_results_)"
   ]
  },
  {
   "cell_type": "code",
   "execution_count": 152,
   "metadata": {},
   "outputs": [
    {
     "data": {
      "image/svg+xml": [
       "<?xml version=\"1.0\" encoding=\"UTF-8\" standalone=\"no\"?>\n",
       "<!DOCTYPE svg PUBLIC \"-//W3C//DTD SVG 1.1//EN\"\n",
       " \"http://www.w3.org/Graphics/SVG/1.1/DTD/svg11.dtd\">\n",
       "<!-- Generated by graphviz version 9.0.0 (20230911.1827)\n",
       " -->\n",
       "<!-- Title: Tree Pages: 1 -->\n",
       "<svg width=\"975pt\" height=\"790pt\"\n",
       " viewBox=\"0.00 0.00 975.00 790.00\" xmlns=\"http://www.w3.org/2000/svg\" xmlns:xlink=\"http://www.w3.org/1999/xlink\">\n",
       "<g id=\"graph0\" class=\"graph\" transform=\"scale(1 1) rotate(0) translate(4 786)\">\n",
       "<title>Tree</title>\n",
       "<polygon fill=\"white\" stroke=\"none\" points=\"-4,4 -4,-786 971,-786 971,4 -4,4\"/>\n",
       "<!-- 0 -->\n",
       "<g id=\"node1\" class=\"node\">\n",
       "<title>0</title>\n",
       "<path fill=\"#f6d2b8\" stroke=\"black\" d=\"M611.62,-782C611.62,-782 420.88,-782 420.88,-782 414.88,-782 408.88,-776 408.88,-770 408.88,-770 408.88,-711 408.88,-711 408.88,-705 414.88,-699 420.88,-699 420.88,-699 611.62,-699 611.62,-699 617.62,-699 623.62,-705 623.62,-711 623.62,-711 623.62,-770 623.62,-770 623.62,-776 617.62,-782 611.62,-782\"/>\n",
       "<text text-anchor=\"middle\" x=\"516.25\" y=\"-764.7\" font-family=\"Helvetica,sans-Serif\" font-size=\"14.00\">deposit_type_Non Refund &lt;= 0.5</text>\n",
       "<text text-anchor=\"middle\" x=\"516.25\" y=\"-749.7\" font-family=\"Helvetica,sans-Serif\" font-size=\"14.00\">gini = 0.476</text>\n",
       "<text text-anchor=\"middle\" x=\"516.25\" y=\"-734.7\" font-family=\"Helvetica,sans-Serif\" font-size=\"14.00\">samples = 82315</text>\n",
       "<text text-anchor=\"middle\" x=\"516.25\" y=\"-719.7\" font-family=\"Helvetica,sans-Serif\" font-size=\"14.00\">value = [50186, 32129]</text>\n",
       "<text text-anchor=\"middle\" x=\"516.25\" y=\"-704.7\" font-family=\"Helvetica,sans-Serif\" font-size=\"14.00\">class = False</text>\n",
       "</g>\n",
       "<!-- 1 -->\n",
       "<g id=\"node2\" class=\"node\">\n",
       "<title>1</title>\n",
       "<path fill=\"#f0b990\" stroke=\"black\" d=\"M515.38,-663C515.38,-663 329.12,-663 329.12,-663 323.12,-663 317.12,-657 317.12,-651 317.12,-651 317.12,-592 317.12,-592 317.12,-586 323.12,-580 329.12,-580 329.12,-580 515.38,-580 515.38,-580 521.38,-580 527.38,-586 527.38,-592 527.38,-592 527.38,-651 527.38,-651 527.38,-657 521.38,-663 515.38,-663\"/>\n",
       "<text text-anchor=\"middle\" x=\"422.25\" y=\"-645.7\" font-family=\"Helvetica,sans-Serif\" font-size=\"14.00\">previous_cancellations &lt;= 0.019</text>\n",
       "<text text-anchor=\"middle\" x=\"422.25\" y=\"-630.7\" font-family=\"Helvetica,sans-Serif\" font-size=\"14.00\">gini = 0.425</text>\n",
       "<text text-anchor=\"middle\" x=\"422.25\" y=\"-615.7\" font-family=\"Helvetica,sans-Serif\" font-size=\"14.00\">samples = 72234</text>\n",
       "<text text-anchor=\"middle\" x=\"422.25\" y=\"-600.7\" font-family=\"Helvetica,sans-Serif\" font-size=\"14.00\">value = [50145, 22089]</text>\n",
       "<text text-anchor=\"middle\" x=\"422.25\" y=\"-585.7\" font-family=\"Helvetica,sans-Serif\" font-size=\"14.00\">class = False</text>\n",
       "</g>\n",
       "<!-- 0&#45;&gt;1 -->\n",
       "<g id=\"edge1\" class=\"edge\">\n",
       "<title>0&#45;&gt;1</title>\n",
       "<path fill=\"none\" stroke=\"black\" d=\"M483.37,-698.58C476.46,-689.98 469.11,-680.82 461.98,-671.95\"/>\n",
       "<polygon fill=\"black\" stroke=\"black\" points=\"464.89,-669.98 455.9,-664.38 459.43,-674.37 464.89,-669.98\"/>\n",
       "<text text-anchor=\"middle\" x=\"452.24\" y=\"-682.25\" font-family=\"Helvetica,sans-Serif\" font-size=\"14.00\">True</text>\n",
       "</g>\n",
       "<!-- 2 -->\n",
       "<g id=\"node19\" class=\"node\">\n",
       "<title>2</title>\n",
       "<path fill=\"#3a9de5\" stroke=\"black\" d=\"M665,-655.5C665,-655.5 557.5,-655.5 557.5,-655.5 551.5,-655.5 545.5,-649.5 545.5,-643.5 545.5,-643.5 545.5,-599.5 545.5,-599.5 545.5,-593.5 551.5,-587.5 557.5,-587.5 557.5,-587.5 665,-587.5 665,-587.5 671,-587.5 677,-593.5 677,-599.5 677,-599.5 677,-643.5 677,-643.5 677,-649.5 671,-655.5 665,-655.5\"/>\n",
       "<text text-anchor=\"middle\" x=\"611.25\" y=\"-638.2\" font-family=\"Helvetica,sans-Serif\" font-size=\"14.00\">gini = 0.008</text>\n",
       "<text text-anchor=\"middle\" x=\"611.25\" y=\"-623.2\" font-family=\"Helvetica,sans-Serif\" font-size=\"14.00\">samples = 10081</text>\n",
       "<text text-anchor=\"middle\" x=\"611.25\" y=\"-608.2\" font-family=\"Helvetica,sans-Serif\" font-size=\"14.00\">value = [41, 10040]</text>\n",
       "<text text-anchor=\"middle\" x=\"611.25\" y=\"-593.2\" font-family=\"Helvetica,sans-Serif\" font-size=\"14.00\">class = True</text>\n",
       "</g>\n",
       "<!-- 0&#45;&gt;2 -->\n",
       "<g id=\"edge18\" class=\"edge\">\n",
       "<title>0&#45;&gt;2</title>\n",
       "<path fill=\"none\" stroke=\"black\" d=\"M549.48,-698.58C558.43,-687.56 568.12,-675.61 577.12,-664.53\"/>\n",
       "<polygon fill=\"black\" stroke=\"black\" points=\"579.62,-667.01 583.21,-657.04 574.19,-662.59 579.62,-667.01\"/>\n",
       "<text text-anchor=\"middle\" x=\"586.74\" y=\"-674.93\" font-family=\"Helvetica,sans-Serif\" font-size=\"14.00\">False</text>\n",
       "</g>\n",
       "<!-- 3 -->\n",
       "<g id=\"node3\" class=\"node\">\n",
       "<title>3</title>\n",
       "<path fill=\"#f0b58a\" stroke=\"black\" d=\"M427.38,-544C427.38,-544 223.12,-544 223.12,-544 217.12,-544 211.12,-538 211.12,-532 211.12,-532 211.12,-473 211.12,-473 211.12,-467 217.12,-461 223.12,-461 223.12,-461 427.38,-461 427.38,-461 433.38,-461 439.38,-467 439.38,-473 439.38,-473 439.38,-532 439.38,-532 439.38,-538 433.38,-544 427.38,-544\"/>\n",
       "<text text-anchor=\"middle\" x=\"325.25\" y=\"-526.7\" font-family=\"Helvetica,sans-Serif\" font-size=\"14.00\">market_segment_Online TA &lt;= 0.5</text>\n",
       "<text text-anchor=\"middle\" x=\"325.25\" y=\"-511.7\" font-family=\"Helvetica,sans-Serif\" font-size=\"14.00\">gini = 0.412</text>\n",
       "<text text-anchor=\"middle\" x=\"325.25\" y=\"-496.7\" font-family=\"Helvetica,sans-Serif\" font-size=\"14.00\">samples = 70579</text>\n",
       "<text text-anchor=\"middle\" x=\"325.25\" y=\"-481.7\" font-family=\"Helvetica,sans-Serif\" font-size=\"14.00\">value = [50080, 20499]</text>\n",
       "<text text-anchor=\"middle\" x=\"325.25\" y=\"-466.7\" font-family=\"Helvetica,sans-Serif\" font-size=\"14.00\">class = False</text>\n",
       "</g>\n",
       "<!-- 1&#45;&gt;3 -->\n",
       "<g id=\"edge2\" class=\"edge\">\n",
       "<title>1&#45;&gt;3</title>\n",
       "<path fill=\"none\" stroke=\"black\" d=\"M388.32,-579.58C381.19,-570.98 373.6,-561.82 366.25,-552.95\"/>\n",
       "<polygon fill=\"black\" stroke=\"black\" points=\"369.04,-550.83 359.96,-545.37 363.65,-555.3 369.04,-550.83\"/>\n",
       "</g>\n",
       "<!-- 4 -->\n",
       "<g id=\"node18\" class=\"node\">\n",
       "<title>4</title>\n",
       "<path fill=\"#41a1e6\" stroke=\"black\" d=\"M569.25,-536.5C569.25,-536.5 469.25,-536.5 469.25,-536.5 463.25,-536.5 457.25,-530.5 457.25,-524.5 457.25,-524.5 457.25,-480.5 457.25,-480.5 457.25,-474.5 463.25,-468.5 469.25,-468.5 469.25,-468.5 569.25,-468.5 569.25,-468.5 575.25,-468.5 581.25,-474.5 581.25,-480.5 581.25,-480.5 581.25,-524.5 581.25,-524.5 581.25,-530.5 575.25,-536.5 569.25,-536.5\"/>\n",
       "<text text-anchor=\"middle\" x=\"519.25\" y=\"-519.2\" font-family=\"Helvetica,sans-Serif\" font-size=\"14.00\">gini = 0.075</text>\n",
       "<text text-anchor=\"middle\" x=\"519.25\" y=\"-504.2\" font-family=\"Helvetica,sans-Serif\" font-size=\"14.00\">samples = 1655</text>\n",
       "<text text-anchor=\"middle\" x=\"519.25\" y=\"-489.2\" font-family=\"Helvetica,sans-Serif\" font-size=\"14.00\">value = [65, 1590]</text>\n",
       "<text text-anchor=\"middle\" x=\"519.25\" y=\"-474.2\" font-family=\"Helvetica,sans-Serif\" font-size=\"14.00\">class = True</text>\n",
       "</g>\n",
       "<!-- 1&#45;&gt;4 -->\n",
       "<g id=\"edge17\" class=\"edge\">\n",
       "<title>1&#45;&gt;4</title>\n",
       "<path fill=\"none\" stroke=\"black\" d=\"M456.18,-579.58C465.31,-568.56 475.22,-556.61 484.4,-545.53\"/>\n",
       "<polygon fill=\"black\" stroke=\"black\" points=\"486.94,-547.96 490.63,-538.03 481.55,-543.49 486.94,-547.96\"/>\n",
       "</g>\n",
       "<!-- 5 -->\n",
       "<g id=\"node4\" class=\"node\">\n",
       "<title>5</title>\n",
       "<path fill=\"#ea9b61\" stroke=\"black\" d=\"M304.12,-425C304.12,-425 116.38,-425 116.38,-425 110.38,-425 104.38,-419 104.38,-413 104.38,-413 104.38,-354 104.38,-354 104.38,-348 110.38,-342 116.38,-342 116.38,-342 304.12,-342 304.12,-342 310.12,-342 316.12,-348 316.12,-354 316.12,-354 316.12,-413 316.12,-413 316.12,-419 310.12,-425 304.12,-425\"/>\n",
       "<text text-anchor=\"middle\" x=\"210.25\" y=\"-407.7\" font-family=\"Helvetica,sans-Serif\" font-size=\"14.00\">total_of_special_requests &lt;= 0.1</text>\n",
       "<text text-anchor=\"middle\" x=\"210.25\" y=\"-392.7\" font-family=\"Helvetica,sans-Serif\" font-size=\"14.00\">gini = 0.282</text>\n",
       "<text text-anchor=\"middle\" x=\"210.25\" y=\"-377.7\" font-family=\"Helvetica,sans-Serif\" font-size=\"14.00\">samples = 26333</text>\n",
       "<text text-anchor=\"middle\" x=\"210.25\" y=\"-362.7\" font-family=\"Helvetica,sans-Serif\" font-size=\"14.00\">value = [21863, 4470]</text>\n",
       "<text text-anchor=\"middle\" x=\"210.25\" y=\"-347.7\" font-family=\"Helvetica,sans-Serif\" font-size=\"14.00\">class = False</text>\n",
       "</g>\n",
       "<!-- 3&#45;&gt;5 -->\n",
       "<g id=\"edge3\" class=\"edge\">\n",
       "<title>3&#45;&gt;5</title>\n",
       "<path fill=\"none\" stroke=\"black\" d=\"M285.03,-460.58C276.4,-451.8 267.2,-442.44 258.31,-433.39\"/>\n",
       "<polygon fill=\"black\" stroke=\"black\" points=\"260.82,-430.96 251.32,-426.28 255.83,-435.86 260.82,-430.96\"/>\n",
       "</g>\n",
       "<!-- 6 -->\n",
       "<g id=\"node7\" class=\"node\">\n",
       "<title>6</title>\n",
       "<path fill=\"#f4c9a9\" stroke=\"black\" d=\"M534.12,-425C534.12,-425 346.38,-425 346.38,-425 340.38,-425 334.38,-419 334.38,-413 334.38,-413 334.38,-354 334.38,-354 334.38,-348 340.38,-342 346.38,-342 346.38,-342 534.12,-342 534.12,-342 540.12,-342 546.12,-348 546.12,-354 546.12,-354 546.12,-413 546.12,-413 546.12,-419 540.12,-425 534.12,-425\"/>\n",
       "<text text-anchor=\"middle\" x=\"440.25\" y=\"-407.7\" font-family=\"Helvetica,sans-Serif\" font-size=\"14.00\">total_of_special_requests &lt;= 0.1</text>\n",
       "<text text-anchor=\"middle\" x=\"440.25\" y=\"-392.7\" font-family=\"Helvetica,sans-Serif\" font-size=\"14.00\">gini = 0.462</text>\n",
       "<text text-anchor=\"middle\" x=\"440.25\" y=\"-377.7\" font-family=\"Helvetica,sans-Serif\" font-size=\"14.00\">samples = 44246</text>\n",
       "<text text-anchor=\"middle\" x=\"440.25\" y=\"-362.7\" font-family=\"Helvetica,sans-Serif\" font-size=\"14.00\">value = [28217, 16029]</text>\n",
       "<text text-anchor=\"middle\" x=\"440.25\" y=\"-347.7\" font-family=\"Helvetica,sans-Serif\" font-size=\"14.00\">class = False</text>\n",
       "</g>\n",
       "<!-- 3&#45;&gt;6 -->\n",
       "<g id=\"edge6\" class=\"edge\">\n",
       "<title>3&#45;&gt;6</title>\n",
       "<path fill=\"none\" stroke=\"black\" d=\"M365.47,-460.58C374.1,-451.8 383.3,-442.44 392.19,-433.39\"/>\n",
       "<polygon fill=\"black\" stroke=\"black\" points=\"394.67,-435.86 399.18,-426.28 389.68,-430.96 394.67,-435.86\"/>\n",
       "</g>\n",
       "<!-- 17 -->\n",
       "<g id=\"node5\" class=\"node\">\n",
       "<title>17</title>\n",
       "<path fill=\"#eca16c\" stroke=\"black\" d=\"M134.5,-298.5C134.5,-298.5 12,-298.5 12,-298.5 6,-298.5 0,-292.5 0,-286.5 0,-286.5 0,-242.5 0,-242.5 0,-236.5 6,-230.5 12,-230.5 12,-230.5 134.5,-230.5 134.5,-230.5 140.5,-230.5 146.5,-236.5 146.5,-242.5 146.5,-242.5 146.5,-286.5 146.5,-286.5 146.5,-292.5 140.5,-298.5 134.5,-298.5\"/>\n",
       "<text text-anchor=\"middle\" x=\"73.25\" y=\"-281.2\" font-family=\"Helvetica,sans-Serif\" font-size=\"14.00\">gini = 0.325</text>\n",
       "<text text-anchor=\"middle\" x=\"73.25\" y=\"-266.2\" font-family=\"Helvetica,sans-Serif\" font-size=\"14.00\">samples = 18873</text>\n",
       "<text text-anchor=\"middle\" x=\"73.25\" y=\"-251.2\" font-family=\"Helvetica,sans-Serif\" font-size=\"14.00\">value = [15021, 3852]</text>\n",
       "<text text-anchor=\"middle\" x=\"73.25\" y=\"-236.2\" font-family=\"Helvetica,sans-Serif\" font-size=\"14.00\">class = False</text>\n",
       "</g>\n",
       "<!-- 5&#45;&gt;17 -->\n",
       "<g id=\"edge4\" class=\"edge\">\n",
       "<title>5&#45;&gt;17</title>\n",
       "<path fill=\"none\" stroke=\"black\" d=\"M162.33,-341.58C148.92,-330.12 134.33,-317.67 120.93,-306.22\"/>\n",
       "<polygon fill=\"black\" stroke=\"black\" points=\"123.34,-303.68 113.46,-299.84 118.8,-309 123.34,-303.68\"/>\n",
       "</g>\n",
       "<!-- 18 -->\n",
       "<g id=\"node6\" class=\"node\">\n",
       "<title>18</title>\n",
       "<path fill=\"#e78c4b\" stroke=\"black\" d=\"M284,-298.5C284,-298.5 176.5,-298.5 176.5,-298.5 170.5,-298.5 164.5,-292.5 164.5,-286.5 164.5,-286.5 164.5,-242.5 164.5,-242.5 164.5,-236.5 170.5,-230.5 176.5,-230.5 176.5,-230.5 284,-230.5 284,-230.5 290,-230.5 296,-236.5 296,-242.5 296,-242.5 296,-286.5 296,-286.5 296,-292.5 290,-298.5 284,-298.5\"/>\n",
       "<text text-anchor=\"middle\" x=\"230.25\" y=\"-281.2\" font-family=\"Helvetica,sans-Serif\" font-size=\"14.00\">gini = 0.152</text>\n",
       "<text text-anchor=\"middle\" x=\"230.25\" y=\"-266.2\" font-family=\"Helvetica,sans-Serif\" font-size=\"14.00\">samples = 7460</text>\n",
       "<text text-anchor=\"middle\" x=\"230.25\" y=\"-251.2\" font-family=\"Helvetica,sans-Serif\" font-size=\"14.00\">value = [6842, 618]</text>\n",
       "<text text-anchor=\"middle\" x=\"230.25\" y=\"-236.2\" font-family=\"Helvetica,sans-Serif\" font-size=\"14.00\">class = False</text>\n",
       "</g>\n",
       "<!-- 5&#45;&gt;18 -->\n",
       "<g id=\"edge5\" class=\"edge\">\n",
       "<title>5&#45;&gt;18</title>\n",
       "<path fill=\"none\" stroke=\"black\" d=\"M217.25,-341.58C218.98,-331.43 220.85,-320.5 222.61,-310.18\"/>\n",
       "<polygon fill=\"black\" stroke=\"black\" points=\"226.06,-310.8 224.29,-300.35 219.16,-309.62 226.06,-310.8\"/>\n",
       "</g>\n",
       "<!-- 7 -->\n",
       "<g id=\"node8\" class=\"node\">\n",
       "<title>7</title>\n",
       "<path fill=\"#deeffb\" stroke=\"black\" d=\"M478.75,-306C478.75,-306 363.75,-306 363.75,-306 357.75,-306 351.75,-300 351.75,-294 351.75,-294 351.75,-235 351.75,-235 351.75,-229 357.75,-223 363.75,-223 363.75,-223 478.75,-223 478.75,-223 484.75,-223 490.75,-229 490.75,-235 490.75,-235 490.75,-294 490.75,-294 490.75,-300 484.75,-306 478.75,-306\"/>\n",
       "<text text-anchor=\"middle\" x=\"421.25\" y=\"-288.7\" font-family=\"Helvetica,sans-Serif\" font-size=\"14.00\">lead_time &lt;= 0.014</text>\n",
       "<text text-anchor=\"middle\" x=\"421.25\" y=\"-273.7\" font-family=\"Helvetica,sans-Serif\" font-size=\"14.00\">gini = 0.496</text>\n",
       "<text text-anchor=\"middle\" x=\"421.25\" y=\"-258.7\" font-family=\"Helvetica,sans-Serif\" font-size=\"14.00\">samples = 16248</text>\n",
       "<text text-anchor=\"middle\" x=\"421.25\" y=\"-243.7\" font-family=\"Helvetica,sans-Serif\" font-size=\"14.00\">value = [7393, 8855]</text>\n",
       "<text text-anchor=\"middle\" x=\"421.25\" y=\"-228.7\" font-family=\"Helvetica,sans-Serif\" font-size=\"14.00\">class = True</text>\n",
       "</g>\n",
       "<!-- 6&#45;&gt;7 -->\n",
       "<g id=\"edge7\" class=\"edge\">\n",
       "<title>6&#45;&gt;7</title>\n",
       "<path fill=\"none\" stroke=\"black\" d=\"M433.6,-341.58C432.34,-333.79 431,-325.53 429.69,-317.45\"/>\n",
       "<polygon fill=\"black\" stroke=\"black\" points=\"433.16,-317 428.1,-307.69 426.25,-318.13 433.16,-317\"/>\n",
       "</g>\n",
       "<!-- 8 -->\n",
       "<g id=\"node13\" class=\"node\">\n",
       "<title>8</title>\n",
       "<path fill=\"#eeac7d\" stroke=\"black\" d=\"M692.5,-306C692.5,-306 570,-306 570,-306 564,-306 558,-300 558,-294 558,-294 558,-235 558,-235 558,-229 564,-223 570,-223 570,-223 692.5,-223 692.5,-223 698.5,-223 704.5,-229 704.5,-235 704.5,-235 704.5,-294 704.5,-294 704.5,-300 698.5,-306 692.5,-306\"/>\n",
       "<text text-anchor=\"middle\" x=\"631.25\" y=\"-288.7\" font-family=\"Helvetica,sans-Serif\" font-size=\"14.00\">lead_time &lt;= 0.026</text>\n",
       "<text text-anchor=\"middle\" x=\"631.25\" y=\"-273.7\" font-family=\"Helvetica,sans-Serif\" font-size=\"14.00\">gini = 0.381</text>\n",
       "<text text-anchor=\"middle\" x=\"631.25\" y=\"-258.7\" font-family=\"Helvetica,sans-Serif\" font-size=\"14.00\">samples = 27998</text>\n",
       "<text text-anchor=\"middle\" x=\"631.25\" y=\"-243.7\" font-family=\"Helvetica,sans-Serif\" font-size=\"14.00\">value = [20824, 7174]</text>\n",
       "<text text-anchor=\"middle\" x=\"631.25\" y=\"-228.7\" font-family=\"Helvetica,sans-Serif\" font-size=\"14.00\">class = False</text>\n",
       "</g>\n",
       "<!-- 6&#45;&gt;8 -->\n",
       "<g id=\"edge12\" class=\"edge\">\n",
       "<title>6&#45;&gt;8</title>\n",
       "<path fill=\"none\" stroke=\"black\" d=\"M507.05,-341.58C522.46,-332.14 538.98,-322.02 554.76,-312.35\"/>\n",
       "<polygon fill=\"black\" stroke=\"black\" points=\"556.5,-315.4 563.19,-307.19 552.84,-309.43 556.5,-315.4\"/>\n",
       "</g>\n",
       "<!-- 9 -->\n",
       "<g id=\"node9\" class=\"node\">\n",
       "<title>9</title>\n",
       "<path fill=\"#ea985d\" stroke=\"black\" d=\"M265,-179.5C265,-179.5 157.5,-179.5 157.5,-179.5 151.5,-179.5 145.5,-173.5 145.5,-167.5 145.5,-167.5 145.5,-123.5 145.5,-123.5 145.5,-117.5 151.5,-111.5 157.5,-111.5 157.5,-111.5 265,-111.5 265,-111.5 271,-111.5 277,-117.5 277,-123.5 277,-123.5 277,-167.5 277,-167.5 277,-173.5 271,-179.5 265,-179.5\"/>\n",
       "<text text-anchor=\"middle\" x=\"211.25\" y=\"-162.2\" font-family=\"Helvetica,sans-Serif\" font-size=\"14.00\">gini = 0.261</text>\n",
       "<text text-anchor=\"middle\" x=\"211.25\" y=\"-147.2\" font-family=\"Helvetica,sans-Serif\" font-size=\"14.00\">samples = 2630</text>\n",
       "<text text-anchor=\"middle\" x=\"211.25\" y=\"-132.2\" font-family=\"Helvetica,sans-Serif\" font-size=\"14.00\">value = [2224, 406]</text>\n",
       "<text text-anchor=\"middle\" x=\"211.25\" y=\"-117.2\" font-family=\"Helvetica,sans-Serif\" font-size=\"14.00\">class = False</text>\n",
       "</g>\n",
       "<!-- 7&#45;&gt;9 -->\n",
       "<g id=\"edge8\" class=\"edge\">\n",
       "<title>7&#45;&gt;9</title>\n",
       "<path fill=\"none\" stroke=\"black\" d=\"M351.32,-224.54C328.67,-211.92 303.55,-197.92 280.91,-185.31\"/>\n",
       "<polygon fill=\"black\" stroke=\"black\" points=\"282.8,-182.36 272.36,-180.55 279.39,-188.47 282.8,-182.36\"/>\n",
       "</g>\n",
       "<!-- 10 -->\n",
       "<g id=\"node10\" class=\"node\">\n",
       "<title>10</title>\n",
       "<path fill=\"#b2d9f5\" stroke=\"black\" d=\"M535,-187C535,-187 307.5,-187 307.5,-187 301.5,-187 295.5,-181 295.5,-175 295.5,-175 295.5,-116 295.5,-116 295.5,-110 301.5,-104 307.5,-104 307.5,-104 535,-104 535,-104 541,-104 547,-110 547,-116 547,-116 547,-175 547,-175 547,-181 541,-187 535,-187\"/>\n",
       "<text text-anchor=\"middle\" x=\"421.25\" y=\"-169.7\" font-family=\"Helvetica,sans-Serif\" font-size=\"14.00\">required_car_parking_spaces &lt;= 0.167</text>\n",
       "<text text-anchor=\"middle\" x=\"421.25\" y=\"-154.7\" font-family=\"Helvetica,sans-Serif\" font-size=\"14.00\">gini = 0.471</text>\n",
       "<text text-anchor=\"middle\" x=\"421.25\" y=\"-139.7\" font-family=\"Helvetica,sans-Serif\" font-size=\"14.00\">samples = 13618</text>\n",
       "<text text-anchor=\"middle\" x=\"421.25\" y=\"-124.7\" font-family=\"Helvetica,sans-Serif\" font-size=\"14.00\">value = [5169, 8449]</text>\n",
       "<text text-anchor=\"middle\" x=\"421.25\" y=\"-109.7\" font-family=\"Helvetica,sans-Serif\" font-size=\"14.00\">class = True</text>\n",
       "</g>\n",
       "<!-- 7&#45;&gt;10 -->\n",
       "<g id=\"edge9\" class=\"edge\">\n",
       "<title>7&#45;&gt;10</title>\n",
       "<path fill=\"none\" stroke=\"black\" d=\"M421.25,-222.58C421.25,-214.79 421.25,-206.53 421.25,-198.45\"/>\n",
       "<polygon fill=\"black\" stroke=\"black\" points=\"424.75,-198.71 421.25,-188.71 417.75,-198.71 424.75,-198.71\"/>\n",
       "</g>\n",
       "<!-- 11 -->\n",
       "<g id=\"node11\" class=\"node\">\n",
       "<title>11</title>\n",
       "<path fill=\"#a6d3f3\" stroke=\"black\" d=\"M438.75,-68C438.75,-68 323.75,-68 323.75,-68 317.75,-68 311.75,-62 311.75,-56 311.75,-56 311.75,-12 311.75,-12 311.75,-6 317.75,0 323.75,0 323.75,0 438.75,0 438.75,0 444.75,0 450.75,-6 450.75,-12 450.75,-12 450.75,-56 450.75,-56 450.75,-62 444.75,-68 438.75,-68\"/>\n",
       "<text text-anchor=\"middle\" x=\"381.25\" y=\"-50.7\" font-family=\"Helvetica,sans-Serif\" font-size=\"14.00\">gini = 0.458</text>\n",
       "<text text-anchor=\"middle\" x=\"381.25\" y=\"-35.7\" font-family=\"Helvetica,sans-Serif\" font-size=\"14.00\">samples = 13118</text>\n",
       "<text text-anchor=\"middle\" x=\"381.25\" y=\"-20.7\" font-family=\"Helvetica,sans-Serif\" font-size=\"14.00\">value = [4669, 8449]</text>\n",
       "<text text-anchor=\"middle\" x=\"381.25\" y=\"-5.7\" font-family=\"Helvetica,sans-Serif\" font-size=\"14.00\">class = True</text>\n",
       "</g>\n",
       "<!-- 10&#45;&gt;11 -->\n",
       "<g id=\"edge10\" class=\"edge\">\n",
       "<title>10&#45;&gt;11</title>\n",
       "<path fill=\"none\" stroke=\"black\" d=\"M406.36,-103.73C403.42,-95.7 400.33,-87.24 397.36,-79.11\"/>\n",
       "<polygon fill=\"black\" stroke=\"black\" points=\"400.65,-77.91 393.93,-69.72 394.08,-80.32 400.65,-77.91\"/>\n",
       "</g>\n",
       "<!-- 12 -->\n",
       "<g id=\"node12\" class=\"node\">\n",
       "<title>12</title>\n",
       "<path fill=\"#e58139\" stroke=\"black\" d=\"M565.75,-68C565.75,-68 480.75,-68 480.75,-68 474.75,-68 468.75,-62 468.75,-56 468.75,-56 468.75,-12 468.75,-12 468.75,-6 474.75,0 480.75,0 480.75,0 565.75,0 565.75,0 571.75,0 577.75,-6 577.75,-12 577.75,-12 577.75,-56 577.75,-56 577.75,-62 571.75,-68 565.75,-68\"/>\n",
       "<text text-anchor=\"middle\" x=\"523.25\" y=\"-50.7\" font-family=\"Helvetica,sans-Serif\" font-size=\"14.00\">gini = 0.0</text>\n",
       "<text text-anchor=\"middle\" x=\"523.25\" y=\"-35.7\" font-family=\"Helvetica,sans-Serif\" font-size=\"14.00\">samples = 500</text>\n",
       "<text text-anchor=\"middle\" x=\"523.25\" y=\"-20.7\" font-family=\"Helvetica,sans-Serif\" font-size=\"14.00\">value = [500, 0]</text>\n",
       "<text text-anchor=\"middle\" x=\"523.25\" y=\"-5.7\" font-family=\"Helvetica,sans-Serif\" font-size=\"14.00\">class = False</text>\n",
       "</g>\n",
       "<!-- 10&#45;&gt;12 -->\n",
       "<g id=\"edge11\" class=\"edge\">\n",
       "<title>10&#45;&gt;12</title>\n",
       "<path fill=\"none\" stroke=\"black\" d=\"M459.23,-103.73C467.47,-94.88 476.2,-85.51 484.47,-76.63\"/>\n",
       "<polygon fill=\"black\" stroke=\"black\" points=\"486.94,-79.11 491.2,-69.41 481.82,-74.34 486.94,-79.11\"/>\n",
       "</g>\n",
       "<!-- 13 -->\n",
       "<g id=\"node14\" class=\"node\">\n",
       "<title>13</title>\n",
       "<path fill=\"#e89050\" stroke=\"black\" d=\"M685,-179.5C685,-179.5 577.5,-179.5 577.5,-179.5 571.5,-179.5 565.5,-173.5 565.5,-167.5 565.5,-167.5 565.5,-123.5 565.5,-123.5 565.5,-117.5 571.5,-111.5 577.5,-111.5 577.5,-111.5 685,-111.5 685,-111.5 691,-111.5 697,-117.5 697,-123.5 697,-123.5 697,-167.5 697,-167.5 697,-173.5 691,-179.5 685,-179.5\"/>\n",
       "<text text-anchor=\"middle\" x=\"631.25\" y=\"-162.2\" font-family=\"Helvetica,sans-Serif\" font-size=\"14.00\">gini = 0.186</text>\n",
       "<text text-anchor=\"middle\" x=\"631.25\" y=\"-147.2\" font-family=\"Helvetica,sans-Serif\" font-size=\"14.00\">samples = 6518</text>\n",
       "<text text-anchor=\"middle\" x=\"631.25\" y=\"-132.2\" font-family=\"Helvetica,sans-Serif\" font-size=\"14.00\">value = [5842, 676]</text>\n",
       "<text text-anchor=\"middle\" x=\"631.25\" y=\"-117.2\" font-family=\"Helvetica,sans-Serif\" font-size=\"14.00\">class = False</text>\n",
       "</g>\n",
       "<!-- 8&#45;&gt;13 -->\n",
       "<g id=\"edge13\" class=\"edge\">\n",
       "<title>8&#45;&gt;13</title>\n",
       "<path fill=\"none\" stroke=\"black\" d=\"M631.25,-222.58C631.25,-212.43 631.25,-201.5 631.25,-191.18\"/>\n",
       "<polygon fill=\"black\" stroke=\"black\" points=\"634.75,-191.37 631.25,-181.37 627.75,-191.37 634.75,-191.37\"/>\n",
       "</g>\n",
       "<!-- 14 -->\n",
       "<g id=\"node15\" class=\"node\">\n",
       "<title>14</title>\n",
       "<path fill=\"#f0b88f\" stroke=\"black\" d=\"M955,-187C955,-187 727.5,-187 727.5,-187 721.5,-187 715.5,-181 715.5,-175 715.5,-175 715.5,-116 715.5,-116 715.5,-110 721.5,-104 727.5,-104 727.5,-104 955,-104 955,-104 961,-104 967,-110 967,-116 967,-116 967,-175 967,-175 967,-181 961,-187 955,-187\"/>\n",
       "<text text-anchor=\"middle\" x=\"841.25\" y=\"-169.7\" font-family=\"Helvetica,sans-Serif\" font-size=\"14.00\">required_car_parking_spaces &lt;= 0.167</text>\n",
       "<text text-anchor=\"middle\" x=\"841.25\" y=\"-154.7\" font-family=\"Helvetica,sans-Serif\" font-size=\"14.00\">gini = 0.422</text>\n",
       "<text text-anchor=\"middle\" x=\"841.25\" y=\"-139.7\" font-family=\"Helvetica,sans-Serif\" font-size=\"14.00\">samples = 21480</text>\n",
       "<text text-anchor=\"middle\" x=\"841.25\" y=\"-124.7\" font-family=\"Helvetica,sans-Serif\" font-size=\"14.00\">value = [14982, 6498]</text>\n",
       "<text text-anchor=\"middle\" x=\"841.25\" y=\"-109.7\" font-family=\"Helvetica,sans-Serif\" font-size=\"14.00\">class = False</text>\n",
       "</g>\n",
       "<!-- 8&#45;&gt;14 -->\n",
       "<g id=\"edge14\" class=\"edge\">\n",
       "<title>8&#45;&gt;14</title>\n",
       "<path fill=\"none\" stroke=\"black\" d=\"M704.7,-222.58C721.96,-212.96 740.48,-202.64 758.14,-192.81\"/>\n",
       "<polygon fill=\"black\" stroke=\"black\" points=\"759.49,-196.06 766.52,-188.13 756.08,-189.94 759.49,-196.06\"/>\n",
       "</g>\n",
       "<!-- 15 -->\n",
       "<g id=\"node16\" class=\"node\">\n",
       "<title>15</title>\n",
       "<path fill=\"#f1bd98\" stroke=\"black\" d=\"M792.5,-68C792.5,-68 670,-68 670,-68 664,-68 658,-62 658,-56 658,-56 658,-12 658,-12 658,-6 664,0 670,0 670,0 792.5,0 792.5,0 798.5,0 804.5,-6 804.5,-12 804.5,-12 804.5,-56 804.5,-56 804.5,-62 798.5,-68 792.5,-68\"/>\n",
       "<text text-anchor=\"middle\" x=\"731.25\" y=\"-50.7\" font-family=\"Helvetica,sans-Serif\" font-size=\"14.00\">gini = 0.438</text>\n",
       "<text text-anchor=\"middle\" x=\"731.25\" y=\"-35.7\" font-family=\"Helvetica,sans-Serif\" font-size=\"14.00\">samples = 20080</text>\n",
       "<text text-anchor=\"middle\" x=\"731.25\" y=\"-20.7\" font-family=\"Helvetica,sans-Serif\" font-size=\"14.00\">value = [13582, 6498]</text>\n",
       "<text text-anchor=\"middle\" x=\"731.25\" y=\"-5.7\" font-family=\"Helvetica,sans-Serif\" font-size=\"14.00\">class = False</text>\n",
       "</g>\n",
       "<!-- 14&#45;&gt;15 -->\n",
       "<g id=\"edge15\" class=\"edge\">\n",
       "<title>14&#45;&gt;15</title>\n",
       "<path fill=\"none\" stroke=\"black\" d=\"M800.29,-103.73C791.31,-94.79 781.8,-85.32 772.79,-76.36\"/>\n",
       "<polygon fill=\"black\" stroke=\"black\" points=\"775.33,-73.94 765.77,-69.37 770.39,-78.9 775.33,-73.94\"/>\n",
       "</g>\n",
       "<!-- 16 -->\n",
       "<g id=\"node17\" class=\"node\">\n",
       "<title>16</title>\n",
       "<path fill=\"#e58139\" stroke=\"black\" d=\"M927.5,-68C927.5,-68 835,-68 835,-68 829,-68 823,-62 823,-56 823,-56 823,-12 823,-12 823,-6 829,0 835,0 835,0 927.5,0 927.5,0 933.5,0 939.5,-6 939.5,-12 939.5,-12 939.5,-56 939.5,-56 939.5,-62 933.5,-68 927.5,-68\"/>\n",
       "<text text-anchor=\"middle\" x=\"881.25\" y=\"-50.7\" font-family=\"Helvetica,sans-Serif\" font-size=\"14.00\">gini = 0.0</text>\n",
       "<text text-anchor=\"middle\" x=\"881.25\" y=\"-35.7\" font-family=\"Helvetica,sans-Serif\" font-size=\"14.00\">samples = 1400</text>\n",
       "<text text-anchor=\"middle\" x=\"881.25\" y=\"-20.7\" font-family=\"Helvetica,sans-Serif\" font-size=\"14.00\">value = [1400, 0]</text>\n",
       "<text text-anchor=\"middle\" x=\"881.25\" y=\"-5.7\" font-family=\"Helvetica,sans-Serif\" font-size=\"14.00\">class = False</text>\n",
       "</g>\n",
       "<!-- 14&#45;&gt;16 -->\n",
       "<g id=\"edge16\" class=\"edge\">\n",
       "<title>14&#45;&gt;16</title>\n",
       "<path fill=\"none\" stroke=\"black\" d=\"M856.14,-103.73C859.08,-95.7 862.17,-87.24 865.14,-79.11\"/>\n",
       "<polygon fill=\"black\" stroke=\"black\" points=\"868.42,-80.32 868.57,-69.72 861.85,-77.91 868.42,-80.32\"/>\n",
       "</g>\n",
       "</g>\n",
       "</svg>\n"
      ],
      "text/plain": [
       "<graphviz.sources.Source at 0x17375f290>"
      ]
     },
     "execution_count": 152,
     "metadata": {},
     "output_type": "execute_result"
    }
   ],
   "source": [
    "dot_data = export_graphviz(best, out_file =None,\n",
    "               feature_names =X.columns, #feature names from dataset\n",
    "               filled=True, \n",
    "                rounded=True,\n",
    "                class_names = ['False', 'True']) #classification labels \n",
    "               \n",
    "graph=graphviz.Source(dot_data)\n",
    "graph "
   ]
  },
  {
   "cell_type": "code",
   "execution_count": 153,
   "metadata": {},
   "outputs": [
    {
     "data": {
      "text/plain": [
       "'dt.pdf'"
      ]
     },
     "execution_count": 153,
     "metadata": {},
     "output_type": "execute_result"
    }
   ],
   "source": [
    "graph.render(\"dt\")"
   ]
  },
  {
   "cell_type": "code",
   "execution_count": 154,
   "metadata": {},
   "outputs": [
    {
     "name": "stdout",
     "output_type": "stream",
     "text": [
      "dict_keys(['mean_fit_time', 'std_fit_time', 'mean_score_time', 'std_score_time', 'param_max_depth', 'params', 'split0_test_roc_auc', 'split1_test_roc_auc', 'split2_test_roc_auc', 'split3_test_roc_auc', 'split4_test_roc_auc', 'split5_test_roc_auc', 'split6_test_roc_auc', 'split7_test_roc_auc', 'split8_test_roc_auc', 'split9_test_roc_auc', 'split10_test_roc_auc', 'split11_test_roc_auc', 'split12_test_roc_auc', 'split13_test_roc_auc', 'split14_test_roc_auc', 'split15_test_roc_auc', 'split16_test_roc_auc', 'split17_test_roc_auc', 'split18_test_roc_auc', 'split19_test_roc_auc', 'split20_test_roc_auc', 'split21_test_roc_auc', 'split22_test_roc_auc', 'split23_test_roc_auc', 'split24_test_roc_auc', 'split25_test_roc_auc', 'split26_test_roc_auc', 'split27_test_roc_auc', 'split28_test_roc_auc', 'split29_test_roc_auc', 'split30_test_roc_auc', 'split31_test_roc_auc', 'split32_test_roc_auc', 'split33_test_roc_auc', 'split34_test_roc_auc', 'split35_test_roc_auc', 'split36_test_roc_auc', 'split37_test_roc_auc', 'split38_test_roc_auc', 'split39_test_roc_auc', 'split40_test_roc_auc', 'split41_test_roc_auc', 'split42_test_roc_auc', 'split43_test_roc_auc', 'split44_test_roc_auc', 'split45_test_roc_auc', 'split46_test_roc_auc', 'split47_test_roc_auc', 'split48_test_roc_auc', 'split49_test_roc_auc', 'mean_test_roc_auc', 'std_test_roc_auc', 'rank_test_roc_auc', 'split0_test_recall', 'split1_test_recall', 'split2_test_recall', 'split3_test_recall', 'split4_test_recall', 'split5_test_recall', 'split6_test_recall', 'split7_test_recall', 'split8_test_recall', 'split9_test_recall', 'split10_test_recall', 'split11_test_recall', 'split12_test_recall', 'split13_test_recall', 'split14_test_recall', 'split15_test_recall', 'split16_test_recall', 'split17_test_recall', 'split18_test_recall', 'split19_test_recall', 'split20_test_recall', 'split21_test_recall', 'split22_test_recall', 'split23_test_recall', 'split24_test_recall', 'split25_test_recall', 'split26_test_recall', 'split27_test_recall', 'split28_test_recall', 'split29_test_recall', 'split30_test_recall', 'split31_test_recall', 'split32_test_recall', 'split33_test_recall', 'split34_test_recall', 'split35_test_recall', 'split36_test_recall', 'split37_test_recall', 'split38_test_recall', 'split39_test_recall', 'split40_test_recall', 'split41_test_recall', 'split42_test_recall', 'split43_test_recall', 'split44_test_recall', 'split45_test_recall', 'split46_test_recall', 'split47_test_recall', 'split48_test_recall', 'split49_test_recall', 'mean_test_recall', 'std_test_recall', 'rank_test_recall', 'split0_test_balanced_accuracy', 'split1_test_balanced_accuracy', 'split2_test_balanced_accuracy', 'split3_test_balanced_accuracy', 'split4_test_balanced_accuracy', 'split5_test_balanced_accuracy', 'split6_test_balanced_accuracy', 'split7_test_balanced_accuracy', 'split8_test_balanced_accuracy', 'split9_test_balanced_accuracy', 'split10_test_balanced_accuracy', 'split11_test_balanced_accuracy', 'split12_test_balanced_accuracy', 'split13_test_balanced_accuracy', 'split14_test_balanced_accuracy', 'split15_test_balanced_accuracy', 'split16_test_balanced_accuracy', 'split17_test_balanced_accuracy', 'split18_test_balanced_accuracy', 'split19_test_balanced_accuracy', 'split20_test_balanced_accuracy', 'split21_test_balanced_accuracy', 'split22_test_balanced_accuracy', 'split23_test_balanced_accuracy', 'split24_test_balanced_accuracy', 'split25_test_balanced_accuracy', 'split26_test_balanced_accuracy', 'split27_test_balanced_accuracy', 'split28_test_balanced_accuracy', 'split29_test_balanced_accuracy', 'split30_test_balanced_accuracy', 'split31_test_balanced_accuracy', 'split32_test_balanced_accuracy', 'split33_test_balanced_accuracy', 'split34_test_balanced_accuracy', 'split35_test_balanced_accuracy', 'split36_test_balanced_accuracy', 'split37_test_balanced_accuracy', 'split38_test_balanced_accuracy', 'split39_test_balanced_accuracy', 'split40_test_balanced_accuracy', 'split41_test_balanced_accuracy', 'split42_test_balanced_accuracy', 'split43_test_balanced_accuracy', 'split44_test_balanced_accuracy', 'split45_test_balanced_accuracy', 'split46_test_balanced_accuracy', 'split47_test_balanced_accuracy', 'split48_test_balanced_accuracy', 'split49_test_balanced_accuracy', 'mean_test_balanced_accuracy', 'std_test_balanced_accuracy', 'rank_test_balanced_accuracy'])\n"
     ]
    }
   ],
   "source": [
    "print(model.cv_results_.keys())"
   ]
  },
  {
   "cell_type": "code",
   "execution_count": 155,
   "metadata": {},
   "outputs": [
    {
     "name": "stdout",
     "output_type": "stream",
     "text": [
      "    depth       auc    recall   bal_acc     aucSD  recallSD  bal_accSD\n",
      "0       1  0.655837  0.312490  0.655837  0.003927  0.007856   0.003927\n",
      "1       2  0.680246  0.361978  0.679933  0.003730  0.007486   0.003723\n",
      "2       3  0.750543  0.361387  0.680544  0.004091  0.007481   0.003725\n",
      "3       4  0.796679  0.636995  0.744718  0.004012  0.007231   0.004277\n",
      "4       5  0.827918  0.624887  0.760437  0.004115  0.007517   0.004019\n",
      "5       6  0.836458  0.624949  0.764902  0.004042  0.007500   0.004038\n",
      "6       7  0.831844  0.619129  0.768029  0.004146  0.007570   0.003842\n",
      "7       8  0.831844  0.619129  0.768029  0.004146  0.007570   0.003842\n",
      "8       9  0.831844  0.619129  0.768029  0.004146  0.007570   0.003842\n",
      "9      10  0.831844  0.619129  0.768029  0.004146  0.007570   0.003842\n",
      "10     11  0.831844  0.619129  0.768029  0.004146  0.007570   0.003842\n",
      "11     12  0.831844  0.619129  0.768029  0.004146  0.007570   0.003842\n",
      "12     13  0.831844  0.619129  0.768029  0.004146  0.007570   0.003842\n",
      "13     14  0.831844  0.619129  0.768029  0.004146  0.007570   0.003842\n",
      "14     15  0.831844  0.619129  0.768029  0.004146  0.007570   0.003842\n",
      "15     16  0.831844  0.619129  0.768029  0.004146  0.007570   0.003842\n",
      "16     17  0.831844  0.619129  0.768029  0.004146  0.007570   0.003842\n",
      "17     18  0.831844  0.619129  0.768029  0.004146  0.007570   0.003842\n",
      "18     19  0.831844  0.619129  0.768029  0.004146  0.007570   0.003842\n",
      "19     20  0.831844  0.619129  0.768029  0.004146  0.007570   0.003842\n"
     ]
    }
   ],
   "source": [
    "\n",
    "auc = model.cv_results_['mean_test_roc_auc']\n",
    "recall= model.cv_results_['mean_test_recall']\n",
    "bal_acc= model.cv_results_['mean_test_balanced_accuracy']\n",
    "\n",
    "SDauc = model.cv_results_['std_test_roc_auc']\n",
    "SDrecall= model.cv_results_['std_test_recall']\n",
    "SDbal_acc= model.cv_results_['std_test_balanced_accuracy']\n",
    "\n",
    "#Parameter:\n",
    "depth= np.unique(model.cv_results_['param_max_depth']).data\n",
    "\n",
    "#Build DataFrame:\n",
    "final_model = pd.DataFrame(list(zip(depth, auc, recall, bal_acc,SDauc,SDrecall,SDbal_acc)),\n",
    "               columns =['depth','auc','recall','bal_acc','aucSD','recallSD','bal_accSD'])\n",
    "\n",
    "print(final_model)"
   ]
  },
  {
   "cell_type": "code",
   "execution_count": 156,
   "metadata": {},
   "outputs": [
    {
     "name": "stdout",
     "output_type": "stream",
     "text": [
      "[<matplotlib.lines.Line2D object at 0x2890e4050>]\n"
     ]
    },
    {
     "data": {
      "image/png": "[encoded data removed]",
      "text/plain": [
       "<Figure size 640x480 with 1 Axes>"
      ]
     },
     "metadata": {},
     "output_type": "display_data"
    }
   ],
   "source": [
    "import matplotlib.pyplot as plt\n",
    "print(plt.plot(final_model.depth,final_model.auc)) #5 does in fact have the highest (best) AUC!\n"
   ]
  },
  {
   "cell_type": "code",
   "execution_count": 157,
   "metadata": {},
   "outputs": [
    {
     "name": "stdout",
     "output_type": "stream",
     "text": [
      "                                importance\n",
      "deposit_type_Non Refund           0.561716\n",
      "total_of_special_requests         0.124769\n",
      "previous_cancellations            0.096857\n",
      "lead_time                         0.090178\n",
      "market_segment_Online TA          0.081571\n",
      "required_car_parking_spaces       0.044908\n",
      "reserved_room_type_A              0.000000\n",
      "market_segment_Groups             0.000000\n",
      "market_segment_Offline TA/TO      0.000000\n",
      "market_segment_Other              0.000000\n",
      "distribution_channel_Direct       0.000000\n",
      "distribution_channel_Other        0.000000\n",
      "distribution_channel_TA/TO        0.000000\n",
      "reserved_room_type_Other          0.000000\n",
      "reserved_room_type_D              0.000000\n",
      "meal_Other                        0.000000\n",
      "assigned_room_type_A              0.000000\n",
      "assigned_room_type_D              0.000000\n",
      "assigned_room_type_Other          0.000000\n",
      "deposit_type_No Deposit           0.000000\n",
      "deposit_type_Refundable           0.000000\n",
      "customer_type_Contract            0.000000\n",
      "customer_type_Group               0.000000\n",
      "customer_type_Transient           0.000000\n",
      "market_segment_Direct             0.000000\n",
      "meal_BB                           0.000000\n",
      "meal_HB                           0.000000\n",
      "arrival_date_year                 0.000000\n",
      "arrival_date_week_number          0.000000\n",
      "arrival_date_day_of_month         0.000000\n",
      "stays_in_weekend_nights           0.000000\n",
      "stays_in_week_nights              0.000000\n",
      "adults                            0.000000\n",
      "children                          0.000000\n",
      "babies                            0.000000\n",
      "is_repeated_guest                 0.000000\n",
      "previous_bookings_not_canceled    0.000000\n",
      "booking_changes                   0.000000\n",
      "agent                             0.000000\n",
      "days_in_waiting_list              0.000000\n",
      "adr                               0.000000\n",
      "hotel_City Hotel                  0.000000\n",
      "hotel_Resort Hotel                0.000000\n",
      "arrival_season_Fall               0.000000\n",
      "arrival_season_Spring             0.000000\n",
      "arrival_season_Summer             0.000000\n",
      "arrival_season_Winter             0.000000\n",
      "customer_type_Transient-Party     0.000000\n"
     ]
    }
   ],
   "source": [
    "varimp=pd.DataFrame(best.feature_importances_,index = X.columns,columns=['importance']).sort_values('importance', ascending=False)\n",
    "print(varimp)"
   ]
  },
  {
   "cell_type": "code",
   "execution_count": 158,
   "metadata": {},
   "outputs": [
    {
     "name": "stdout",
     "output_type": "stream",
     "text": [
      "Axes(0.125,0.11;0.775x0.77)\n"
     ]
    },
    {
     "data": {
      "image/png": "[encoded data removed]",
      "text/plain": [
       "<Figure size 1000x700 with 1 Axes>"
      ]
     },
     "metadata": {},
     "output_type": "display_data"
    }
   ],
   "source": [
    "plt.figure(figsize=(10,7))\n",
    "print(varimp.importance.nlargest(7).plot(kind='barh'))"
   ]
  },
  {
   "cell_type": "code",
   "execution_count": 159,
   "metadata": {},
   "outputs": [
    {
     "name": "stdout",
     "output_type": "stream",
     "text": [
      "[1. 1. 1. ... 1. 0. 0.]\n"
     ]
    }
   ],
   "source": [
    "pred_ratings_test_set = model.predict(X_test)\n",
    "print(pred_ratings_test_set)"
   ]
  },
  {
   "cell_type": "code",
   "execution_count": 160,
   "metadata": {},
   "outputs": [],
   "source": [
    "tn, fp, fn, tp = metrics.confusion_matrix(y_test,pred_ratings_test_set).ravel()"
   ]
  },
  {
   "cell_type": "code",
   "execution_count": 161,
   "metadata": {},
   "outputs": [
    {
     "name": "stdout",
     "output_type": "stream",
     "text": [
      "True Error Rate = 21.205053449951407\n"
     ]
    }
   ],
   "source": [
    "print(\"True Error Rate = \"+ str((fp+fn)/len(y_test)*100))"
   ]
  },
  {
   "cell_type": "code",
   "execution_count": 162,
   "metadata": {},
   "outputs": [
    {
     "name": "stdout",
     "output_type": "stream",
     "text": [
      "Detection Rate = 24.02332361516035\n"
     ]
    }
   ],
   "source": [
    "print(\"Detection Rate = \" +str((tp)/len(y_test)*100))"
   ]
  },
  {
   "cell_type": "code",
   "execution_count": 163,
   "metadata": {},
   "outputs": [
    {
     "data": {
      "text/plain": [
       "Text(0.5, 0, 'False Positive Rate')"
      ]
     },
     "execution_count": 163,
     "metadata": {},
     "output_type": "execute_result"
    },
    {
     "data": {
      "image/png": "[encoded data removed]",
      "text/plain": [
       "<Figure size 640x480 with 1 Axes>"
      ]
     },
     "metadata": {},
     "output_type": "display_data"
    }
   ],
   "source": [
    "# visualizing the ROC curve\n",
    "metrics.RocCurveDisplay.from_predictions(y_test,pred_ratings_test_set)\n",
    "#Set labels and midline...\n",
    "plt.plot([0, 1], [0, 1],'r--')\n",
    "plt.ylabel('True Positive Rate')\n",
    "plt.xlabel('False Positive Rate')"
   ]
  },
  {
   "cell_type": "code",
   "execution_count": 164,
   "metadata": {},
   "outputs": [
    {
     "name": "stdout",
     "output_type": "stream",
     "text": [
      "<sklearn.metrics._plot.confusion_matrix.ConfusionMatrixDisplay object at 0x1777d55d0>\n"
     ]
    },
    {
     "data": {
      "image/png": "[encoded data removed]",
      "text/plain": [
       "<Figure size 640x480 with 1 Axes>"
      ]
     },
     "metadata": {},
     "output_type": "display_data"
    }
   ],
   "source": [
    "# visualizing the confusion matrix\n",
    "print(ConfusionMatrixDisplay.from_estimator(best,X_test,y_test, colorbar=False))"
   ]
  },
  {
   "cell_type": "code",
   "execution_count": 165,
   "metadata": {},
   "outputs": [
    {
     "name": "stdout",
     "output_type": "stream",
     "text": [
      "                                importance\n",
      "deposit_type_Non Refund           0.561716\n",
      "total_of_special_requests         0.124769\n",
      "previous_cancellations            0.096857\n",
      "lead_time                         0.090178\n",
      "market_segment_Online TA          0.081571\n",
      "required_car_parking_spaces       0.044908\n",
      "reserved_room_type_A              0.000000\n",
      "market_segment_Groups             0.000000\n",
      "market_segment_Offline TA/TO      0.000000\n",
      "market_segment_Other              0.000000\n",
      "distribution_channel_Direct       0.000000\n",
      "distribution_channel_Other        0.000000\n",
      "distribution_channel_TA/TO        0.000000\n",
      "reserved_room_type_Other          0.000000\n",
      "reserved_room_type_D              0.000000\n",
      "meal_Other                        0.000000\n",
      "assigned_room_type_A              0.000000\n",
      "assigned_room_type_D              0.000000\n",
      "assigned_room_type_Other          0.000000\n",
      "deposit_type_No Deposit           0.000000\n",
      "deposit_type_Refundable           0.000000\n",
      "customer_type_Contract            0.000000\n",
      "customer_type_Group               0.000000\n",
      "customer_type_Transient           0.000000\n",
      "market_segment_Direct             0.000000\n",
      "meal_BB                           0.000000\n",
      "meal_HB                           0.000000\n",
      "arrival_date_year                 0.000000\n",
      "arrival_date_week_number          0.000000\n",
      "arrival_date_day_of_month         0.000000\n",
      "stays_in_weekend_nights           0.000000\n",
      "stays_in_week_nights              0.000000\n",
      "adults                            0.000000\n",
      "children                          0.000000\n",
      "babies                            0.000000\n",
      "is_repeated_guest                 0.000000\n",
      "previous_bookings_not_canceled    0.000000\n",
      "booking_changes                   0.000000\n",
      "agent                             0.000000\n",
      "days_in_waiting_list              0.000000\n",
      "adr                               0.000000\n",
      "hotel_City Hotel                  0.000000\n",
      "hotel_Resort Hotel                0.000000\n",
      "arrival_season_Fall               0.000000\n",
      "arrival_season_Spring             0.000000\n",
      "arrival_season_Summer             0.000000\n",
      "arrival_season_Winter             0.000000\n",
      "customer_type_Transient-Party     0.000000\n"
     ]
    }
   ],
   "source": [
    "# sorting the variables by importance in predicting reservation status\n",
    "varimp_test_set =pd.DataFrame(best.feature_importances_,index = X_test.columns,columns=['importance']).sort_values('importance', ascending=False)\n",
    "print(varimp_test_set)"
   ]
  },
  {
   "cell_type": "code",
   "execution_count": 166,
   "metadata": {},
   "outputs": [
    {
     "name": "stdout",
     "output_type": "stream",
     "text": [
      "0.787949465500486\n"
     ]
    }
   ],
   "source": [
    "print(best.score(X_test,y_test)) #Pretty precise, nice!"
   ]
  },
  {
   "cell_type": "code",
   "execution_count": 167,
   "metadata": {},
   "outputs": [
    {
     "name": "stdout",
     "output_type": "stream",
     "text": [
      "0.7967732529886287\n"
     ]
    }
   ],
   "source": [
    "print(best.score(X_tune,y_tune)) #same with tuning set"
   ]
  },
  {
   "cell_type": "markdown",
   "metadata": {},
   "source": [
    "# Fairness Assessment\n",
    "This data did not deal with any protected classes, so we did not have to account for them when making our model and evaluation."
   ]
  },
  {
   "cell_type": "markdown",
   "metadata": {},
   "source": [
    "# Conclusion"
   ]
  },
  {
   "cell_type": "markdown",
   "metadata": {},
   "source": [
    "## Analysis of Confusion Matrix and ROC curve"
   ]
  },
  {
   "cell_type": "markdown",
   "metadata": {},
   "source": [
    "Overall Accuracy: 0.7821"
   ]
  },
  {
   "cell_type": "markdown",
   "metadata": {},
   "source": [
    "Sensitivity (Recall): 0.6155"
   ]
  },
  {
   "cell_type": "markdown",
   "metadata": {},
   "source": [
    "Specificity: 0.8983"
   ]
  },
  {
   "cell_type": "markdown",
   "metadata": {},
   "source": [
    "Precision: 0.7949"
   ]
  },
  {
   "cell_type": "markdown",
   "metadata": {},
   "source": [
    "False Positive Rate (FPR): 0.1017"
   ]
  },
  {
   "cell_type": "markdown",
   "metadata": {},
   "source": [
    "False Negative Rate (FNR): 0.3845"
   ]
  },
  {
   "cell_type": "markdown",
   "metadata": {},
   "source": [
    "Our analysis and values that we got based on our confusion matrix, our overall accuracy is 78.21%, which means that 78.21% of our data will be accurately predicted by our model. A sensitivity of 0.6155 means that 61.55% of reservations that are predicted as being cancelled are actually cancelled. A specificity of 0.8983 implies that 89.83% of reservations that are predicted as not being cancelled are actually not cancelled. Finally, a precision of 0.7949 means that out of all of the observations who are predicted to cancel, 79.49% of them actually cancel."
   ]
  },
  {
   "cell_type": "markdown",
   "metadata": {},
   "source": [
    "Our false negative and false positive rates are pretty low, which indicates that our model is pretty good at predicting whether or not a reservation is going to be cancelled or not. "
   ]
  },
  {
   "cell_type": "markdown",
   "metadata": {},
   "source": [
    "ROC Curve: Since our ROC curve appears to be above the AUC curve, this shows that the model we created for predicting whether or not a reservation will be canceled or not is better at predicting than just guessing at random. Additionally, because our ROC curve has a sharp angle instead of a smooth curve, this shows that our model is close to being perfect. While this may seem jarring and could imply a scarcity of points, our model contains close to 103,000 observations. This is a significantly large number of points used to predict our model. However, our ROC curve show cases the performance with our test set, which in this case would not imply overfitting being an issue. "
   ]
  },
  {
   "cell_type": "markdown",
   "metadata": {},
   "source": [
    "### Analysis of  Decision Tree\n",
    "\n",
    "The decision tree indicates the variable previous cancellations is the most important. If a customer has previously cancelled a reservation, they are more likely to cancel the current reservation. The next most significant variable is market_segment_Online TA (if the booking was made a travel agent). If the booking was made by a travel agent, the booking is more likely to be cancelled. Other relevant variables include total number of speical requests, lead time (Number of days that elapsed between the entering date of the booking into the PMS and the arrival date), and the number of required parking spaces. \n"
   ]
  },
  {
   "cell_type": "markdown",
   "metadata": {},
   "source": [
    "## Future Work"
   ]
  },
  {
   "cell_type": "markdown",
   "metadata": {},
   "source": [
    "Limitations\n",
    "- Prevalence = 0.39\n",
    "    - A prevalence of 0.39 indicates a somewhat imbalanced dataset. The model may have a tendency to favor the majority class (reservatinos that were not cancelled)\n",
    "\n",
    "\n",
    "- Explore the shape of the ROC curve\n",
    "\n",
    "- Adjust the threshold\n",
    "    - If the stakeholder cares more about the model missing cancelled reservations (care more about FNR) we would lower the threshold to make the classifier more sensitve.\n",
    "    - If the stakeholder cares more about the model falsely predicting a cancellation (care more about FPR), we would increase the threshold to mkae the classifier less senstive.\n",
    "\n",
    "\n",
    "- Explore other methods: KNN, Random Forests, Clustering"
   ]
  },
  {
   "cell_type": "markdown",
   "metadata": {},
   "source": [
    "[Github link](https://github.com/treypallace/DS3001-Final)"
   ]
  }
 ],
 "metadata": {
  "kernelspec": {
   "display_name": "DS3001",
   "language": "python",
   "name": "python3"
  },
  "language_info": {
   "codemirror_mode": {
    "name": "ipython",
    "version": 3
   },
   "file_extension": ".py",
   "mimetype": "text/x-python",
   "name": "python",
   "nbconvert_exporter": "python",
   "pygments_lexer": "ipython3",
   "version": "3.11.4"
  }
 },
 "nbformat": 4,
 "nbformat_minor": 2
}
